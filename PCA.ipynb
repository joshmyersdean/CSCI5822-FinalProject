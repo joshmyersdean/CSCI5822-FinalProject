{
 "cells": [
  {
   "cell_type": "markdown",
   "id": "f2da3e1f-91d0-4fb4-acc3-dd1c9366e14e",
   "metadata": {},
   "source": [
    "## Read and pre-process the data\n",
    "The method to fill in the NULL values is still FFILL need to check in the future"
   ]
  },
  {
   "cell_type": "code",
   "execution_count": 1,
   "id": "cde8eb56-2414-4a9d-973c-a8f7deb4119c",
   "metadata": {},
   "outputs": [],
   "source": [
    "import warnings\n",
    "warnings.filterwarnings(\"ignore\")\n",
    "import pandas as pd\n",
    "import operator\n",
    "import numpy as np\n",
    "%matplotlib inline\n",
    "import matplotlib.pyplot as plt\n",
    "import seaborn as sns; sns.set()\n",
    "from sklearn.decomposition import PCA\n",
    "from sklearn.cluster import KMeans\n",
    "from sklearn.preprocessing import StandardScaler\n",
    "sns.set_theme(context=\"notebook\", font_scale=1.2)"
   ]
  },
  {
   "cell_type": "code",
   "execution_count": 2,
   "id": "1c732de4-2076-4ed1-bf1b-fc5cd7031463",
   "metadata": {},
   "outputs": [],
   "source": [
    "data = pd.read_csv(\"Loan_Default.csv\")\n",
    "data.drop(columns=[\"ID\", \"year\"], inplace=True)"
   ]
  },
  {
   "cell_type": "code",
   "execution_count": 3,
   "id": "142dfb86-bb84-4dcd-b897-d617f7c82fd3",
   "metadata": {},
   "outputs": [],
   "source": [
    "data = data.infer_objects()"
   ]
  },
  {
   "cell_type": "code",
   "execution_count": 4,
   "id": "729dde54-5516-485e-9307-1017be5b8100",
   "metadata": {},
   "outputs": [],
   "source": [
    "data['loan_amount'] = data['loan_amount'].astype('float')\n",
    "data['Credit_Score'] = data['Credit_Score'].astype('float')"
   ]
  },
  {
   "cell_type": "code",
   "execution_count": 5,
   "id": "bf2b9fd4-5406-469d-bd71-f02731e03f3b",
   "metadata": {},
   "outputs": [],
   "source": [
    "data = data.fillna(method=\"ffill\") ## Need to check this for the future"
   ]
  },
  {
   "cell_type": "code",
   "execution_count": 6,
   "id": "e967cdcb-4a9d-409f-bde5-955f1f25be5e",
   "metadata": {},
   "outputs": [],
   "source": [
    "data = data.infer_objects()"
   ]
  },
  {
   "cell_type": "code",
   "execution_count": 7,
   "id": "94f3840f-837c-4b50-82bd-73a92d1657b4",
   "metadata": {},
   "outputs": [
    {
     "data": {
      "text/plain": [
       "array([dtype('O'), dtype('float64'), dtype('int64')], dtype=object)"
      ]
     },
     "execution_count": 7,
     "metadata": {},
     "output_type": "execute_result"
    }
   ],
   "source": [
    "data.dtypes.unique()"
   ]
  },
  {
   "cell_type": "code",
   "execution_count": 8,
   "id": "cf1c51ef-89ac-42ea-a838-25feced2a76e",
   "metadata": {},
   "outputs": [],
   "source": [
    "data = pd.get_dummies(data)\n",
    "data.reset_index(drop=True, inplace=True)"
   ]
  },
  {
   "cell_type": "code",
   "execution_count": 9,
   "id": "9df0b550-50a0-45cb-8584-61f44b6e2d7f",
   "metadata": {},
   "outputs": [],
   "source": [
    "data.dropna(how=\"any\", inplace=True)"
   ]
  },
  {
   "cell_type": "code",
   "execution_count": 10,
   "id": "b2e45624-c897-49d0-bce9-4506c0518883",
   "metadata": {},
   "outputs": [
    {
     "data": {
      "text/plain": [
       "(148668, 70)"
      ]
     },
     "execution_count": 10,
     "metadata": {},
     "output_type": "execute_result"
    }
   ],
   "source": [
    "data.shape"
   ]
  },
  {
   "cell_type": "markdown",
   "id": "86f39aaa-b31f-4a1c-85ed-2b733676fa7d",
   "metadata": {},
   "source": [
    "### Standardize the dataset"
   ]
  },
  {
   "cell_type": "code",
   "execution_count": 11,
   "id": "c990f7bb-5c7b-4b07-8966-ca48631da32a",
   "metadata": {},
   "outputs": [],
   "source": [
    "scaler = StandardScaler()\n",
    "data_scaled = scaler.fit_transform(data)"
   ]
  },
  {
   "cell_type": "markdown",
   "id": "4c9f825c-4b86-4509-a4cb-8990c4683146",
   "metadata": {},
   "source": [
    "### PCA\n",
    "First we look at the Scree-plot to identify the point of infelection for PCA compnents"
   ]
  },
  {
   "cell_type": "code",
   "execution_count": 12,
   "id": "75a771c6-5eb7-4512-9d24-c59f0fb67125",
   "metadata": {},
   "outputs": [
    {
     "data": {
      "text/html": [
       "<style>#sk-container-id-1 {color: black;background-color: white;}#sk-container-id-1 pre{padding: 0;}#sk-container-id-1 div.sk-toggleable {background-color: white;}#sk-container-id-1 label.sk-toggleable__label {cursor: pointer;display: block;width: 100%;margin-bottom: 0;padding: 0.3em;box-sizing: border-box;text-align: center;}#sk-container-id-1 label.sk-toggleable__label-arrow:before {content: \"▸\";float: left;margin-right: 0.25em;color: #696969;}#sk-container-id-1 label.sk-toggleable__label-arrow:hover:before {color: black;}#sk-container-id-1 div.sk-estimator:hover label.sk-toggleable__label-arrow:before {color: black;}#sk-container-id-1 div.sk-toggleable__content {max-height: 0;max-width: 0;overflow: hidden;text-align: left;background-color: #f0f8ff;}#sk-container-id-1 div.sk-toggleable__content pre {margin: 0.2em;color: black;border-radius: 0.25em;background-color: #f0f8ff;}#sk-container-id-1 input.sk-toggleable__control:checked~div.sk-toggleable__content {max-height: 200px;max-width: 100%;overflow: auto;}#sk-container-id-1 input.sk-toggleable__control:checked~label.sk-toggleable__label-arrow:before {content: \"▾\";}#sk-container-id-1 div.sk-estimator input.sk-toggleable__control:checked~label.sk-toggleable__label {background-color: #d4ebff;}#sk-container-id-1 div.sk-label input.sk-toggleable__control:checked~label.sk-toggleable__label {background-color: #d4ebff;}#sk-container-id-1 input.sk-hidden--visually {border: 0;clip: rect(1px 1px 1px 1px);clip: rect(1px, 1px, 1px, 1px);height: 1px;margin: -1px;overflow: hidden;padding: 0;position: absolute;width: 1px;}#sk-container-id-1 div.sk-estimator {font-family: monospace;background-color: #f0f8ff;border: 1px dotted black;border-radius: 0.25em;box-sizing: border-box;margin-bottom: 0.5em;}#sk-container-id-1 div.sk-estimator:hover {background-color: #d4ebff;}#sk-container-id-1 div.sk-parallel-item::after {content: \"\";width: 100%;border-bottom: 1px solid gray;flex-grow: 1;}#sk-container-id-1 div.sk-label:hover label.sk-toggleable__label {background-color: #d4ebff;}#sk-container-id-1 div.sk-serial::before {content: \"\";position: absolute;border-left: 1px solid gray;box-sizing: border-box;top: 0;bottom: 0;left: 50%;z-index: 0;}#sk-container-id-1 div.sk-serial {display: flex;flex-direction: column;align-items: center;background-color: white;padding-right: 0.2em;padding-left: 0.2em;position: relative;}#sk-container-id-1 div.sk-item {position: relative;z-index: 1;}#sk-container-id-1 div.sk-parallel {display: flex;align-items: stretch;justify-content: center;background-color: white;position: relative;}#sk-container-id-1 div.sk-item::before, #sk-container-id-1 div.sk-parallel-item::before {content: \"\";position: absolute;border-left: 1px solid gray;box-sizing: border-box;top: 0;bottom: 0;left: 50%;z-index: -1;}#sk-container-id-1 div.sk-parallel-item {display: flex;flex-direction: column;z-index: 1;position: relative;background-color: white;}#sk-container-id-1 div.sk-parallel-item:first-child::after {align-self: flex-end;width: 50%;}#sk-container-id-1 div.sk-parallel-item:last-child::after {align-self: flex-start;width: 50%;}#sk-container-id-1 div.sk-parallel-item:only-child::after {width: 0;}#sk-container-id-1 div.sk-dashed-wrapped {border: 1px dashed gray;margin: 0 0.4em 0.5em 0.4em;box-sizing: border-box;padding-bottom: 0.4em;background-color: white;}#sk-container-id-1 div.sk-label label {font-family: monospace;font-weight: bold;display: inline-block;line-height: 1.2em;}#sk-container-id-1 div.sk-label-container {text-align: center;}#sk-container-id-1 div.sk-container {/* jupyter's `normalize.less` sets `[hidden] { display: none; }` but bootstrap.min.css set `[hidden] { display: none !important; }` so we also need the `!important` here to be able to override the default hidden behavior on the sphinx rendered scikit-learn.org. See: https://github.com/scikit-learn/scikit-learn/issues/21755 */display: inline-block !important;position: relative;}#sk-container-id-1 div.sk-text-repr-fallback {display: none;}</style><div id=\"sk-container-id-1\" class=\"sk-top-container\"><div class=\"sk-text-repr-fallback\"><pre>PCA(n_components=70)</pre><b>In a Jupyter environment, please rerun this cell to show the HTML representation or trust the notebook. <br />On GitHub, the HTML representation is unable to render, please try loading this page with nbviewer.org.</b></div><div class=\"sk-container\" hidden><div class=\"sk-item\"><div class=\"sk-estimator sk-toggleable\"><input class=\"sk-toggleable__control sk-hidden--visually\" id=\"sk-estimator-id-1\" type=\"checkbox\" checked><label for=\"sk-estimator-id-1\" class=\"sk-toggleable__label sk-toggleable__label-arrow\">PCA</label><div class=\"sk-toggleable__content\"><pre>PCA(n_components=70)</pre></div></div></div></div></div>"
      ],
      "text/plain": [
       "PCA(n_components=70)"
      ]
     },
     "execution_count": 12,
     "metadata": {},
     "output_type": "execute_result"
    }
   ],
   "source": [
    "cov_mat = PCA(n_components=len(data.columns))\n",
    "cov_mat.fit(data_scaled)"
   ]
  },
  {
   "cell_type": "code",
   "execution_count": 13,
   "id": "081b7e4f-d984-402e-aa43-63a1f28581fd",
   "metadata": {},
   "outputs": [],
   "source": [
    "eigenvalues = cov_mat.explained_variance_\n",
    "prop_var = eigenvalues / np.sum(eigenvalues)"
   ]
  },
  {
   "cell_type": "code",
   "execution_count": 14,
   "id": "86d15ffe-7f7a-4914-9f8f-f4b46bdbb8ca",
   "metadata": {},
   "outputs": [],
   "source": [
    "prop_var_cumsum = np.cumsum(prop_var)"
   ]
  },
  {
   "cell_type": "code",
   "execution_count": 15,
   "id": "6786f400-b8e4-4c51-b466-a8bb4cc96da4",
   "metadata": {},
   "outputs": [
    {
     "data": {
      "image/png": "[encoded data removed]",
      "text/plain": [
       "<Figure size 720x360 with 1 Axes>"
      ]
     },
     "metadata": {},
     "output_type": "display_data"
    }
   ],
   "source": [
    "## Scree plots\n",
    "plt.figure(figsize=[10, 5])\n",
    "plt.plot(np.arange(1, len(prop_var)+1), prop_var_cumsum, marker='o')\n",
    "plt.xlabel('Principal Component')\n",
    "plt.ylabel('Proportion of Variance Explained')\n",
    "plt.title('Figure 1: Scree Plot for Proportion of Variance Explained')\n",
    "plt.grid(True)"
   ]
  },
  {
   "cell_type": "code",
   "execution_count": 16,
   "id": "3089db62-c4e4-477a-a836-68a1abd6c7ec",
   "metadata": {},
   "outputs": [
    {
     "data": {
      "image/png": "[encoded data removed]",
      "text/plain": [
       "<Figure size 720x360 with 1 Axes>"
      ]
     },
     "metadata": {},
     "output_type": "display_data"
    }
   ],
   "source": [
    "plt.figure(figsize=[10, 5])\n",
    "plt.plot(np.arange(1, len(eigenvalues)+1), eigenvalues, marker='o')\n",
    "plt.xlabel('Principal Component')\n",
    "plt.ylabel('Eigenvalue')\n",
    "plt.title('Scree Plot for Eigenvalues')\n",
    "plt.axhline(y=1, color='r', linestyle='--')\n",
    "plt.grid(True)"
   ]
  },
  {
   "cell_type": "markdown",
   "id": "1dd07b21-1b43-4c03-9ae4-55676cb9d29f",
   "metadata": {},
   "source": [
    "From both percentage of variance explained and eigenvalue we see that we need atleast 30 PCs to explain the data we have, according to the Kaiser and Elbow rules."
   ]
  },
  {
   "cell_type": "code",
   "execution_count": 17,
   "id": "b741b08d-a305-4828-af5d-92bb12cea432",
   "metadata": {},
   "outputs": [],
   "source": [
    "pca = PCA(n_components=30)\n",
    "principalComponents = pca.fit_transform(data_scaled)"
   ]
  },
  {
   "cell_type": "code",
   "execution_count": 18,
   "id": "8161b820-5045-4ddb-96e4-6bb7d5d38036",
   "metadata": {},
   "outputs": [
    {
     "data": {
      "text/plain": [
       "array([0.08576392, 0.06332111, 0.05004014, 0.04380083, 0.04122423,\n",
       "       0.03755099, 0.03447814, 0.03403683, 0.03071459, 0.03000846,\n",
       "       0.02849729, 0.02689332, 0.02576109, 0.0232892 , 0.021989  ,\n",
       "       0.02086252, 0.02058284, 0.01985316, 0.0193235 , 0.01898956,\n",
       "       0.01876095, 0.01830514, 0.01780893, 0.01674324, 0.01656056,\n",
       "       0.01581698, 0.01539072, 0.01496807, 0.0146154 , 0.01442169])"
      ]
     },
     "execution_count": 18,
     "metadata": {},
     "output_type": "execute_result"
    }
   ],
   "source": [
    "## The amount of variance explained by each of the selected components.\n",
    "pca.explained_variance_ratio_"
   ]
  },
  {
   "cell_type": "code",
   "execution_count": 19,
   "id": "24cab09c-afb5-4423-9d32-5701d7b9f1e4",
   "metadata": {},
   "outputs": [],
   "source": [
    "cols = ['PCA_' + str(i) for i in range(1, 31)]\n",
    "principalDf = pd.DataFrame(data = principalComponents, columns=cols)"
   ]
  },
  {
   "cell_type": "code",
   "execution_count": 20,
   "id": "f89bf987-3e1b-4cfe-ad9d-d28e685ba821",
   "metadata": {},
   "outputs": [],
   "source": [
    "# principalDf.to_csv(\"PCA.csv\", index=False)"
   ]
  },
  {
   "cell_type": "code",
   "execution_count": 21,
   "id": "b8ce8dfa-a89b-45d4-88f5-a5a6bd735024",
   "metadata": {},
   "outputs": [],
   "source": [
    "val = pca.components_.mean(axis = 0)\n",
    "cols = data.columns\n",
    "weights = {}\n",
    "for vals, col in zip(val, cols):\n",
    "    weights[col] = vals"
   ]
  },
  {
   "cell_type": "code",
   "execution_count": 22,
   "id": "82784289-d114-4c64-a4cc-0823dfd5087a",
   "metadata": {},
   "outputs": [
    {
     "name": "stdout",
     "output_type": "stream",
     "text": [
      "14.9085033792416 %\n"
     ]
    }
   ],
   "source": [
    "var_ratios = pca.explained_variance_ratio_\n",
    "su = var_ratios[:2].sum() * 100 ## Variance from the first two PCs\n",
    "print(su, \"%\")"
   ]
  },
  {
   "cell_type": "code",
   "execution_count": 23,
   "id": "46217cfe-0586-4686-b34a-e571bc100876",
   "metadata": {},
   "outputs": [
    {
     "data": {
      "text/plain": [
       "[('loan_purpose_p3', -0.048544459055475934),\n",
       " ('loan_limit_cf', -0.03737011321296914),\n",
       " ('approv_in_adv_pre', -0.03684673456126974),\n",
       " ('age_65-74', -0.03488711834114513),\n",
       " ('age_55-64', -0.034455857971429756),\n",
       " ('lump_sum_payment_not_lpsm', -0.034449853163573754),\n",
       " ('Region_North-East', -0.03354775769482155),\n",
       " ('credit_type_CRIF', -0.027033477054122606),\n",
       " ('occupancy_type_pr', -0.024875257638402974),\n",
       " ('Credit_Worthiness_l1', -0.02351367352496597),\n",
       " ('dtir1', -0.023165253628225958),\n",
       " ('open_credit_nopc', -0.018943106875174996),\n",
       " ('construction_type_sb', -0.013816341301348197),\n",
       " ('Security_Type_direct', -0.013816341301348194),\n",
       " ('Secured_by_home', -0.01381634130134819),\n",
       " ('total_units_2U', -0.01335346480601093),\n",
       " ('Gender_Male', -0.01158356447103458),\n",
       " ('Region_central', -0.011121339796365155),\n",
       " ('credit_type_EQUI', -0.009181696848532987),\n",
       " ('total_units_1U', -0.008431509427068296),\n",
       " ('co-applicant_credit_type_CIB', -0.00795672573780187),\n",
       " ('loan_purpose_p2', -0.0058924678944084485),\n",
       " ('age_>74', -0.005871760251772962),\n",
       " ('Status', -0.005599131917662223),\n",
       " ('property_value', -0.003942402867710238),\n",
       " ('business_or_commercial_nob/c', -0.003926894142618737),\n",
       " ('interest_only_int_only', -0.0034233894817209684),\n",
       " ('submission_of_application_not_inst', -0.003273850427582892),\n",
       " ('Gender_Female', -0.002628871197419181),\n",
       " ('loan_type_type1', -0.002508681742467317),\n",
       " ('credit_type_EXP', -0.0019508781263971658),\n",
       " ('Region_south', -0.0017134390601932351),\n",
       " ('Neg_ammortization_neg_amm', -0.0013902876543819668),\n",
       " ('loan_type_type3', -0.0009759393319578517),\n",
       " ('Neg_ammortization_not_neg', 0.001390287654381946),\n",
       " ('Gender_Sex Not Available', 0.0025689680840561705),\n",
       " ('submission_of_application_to_inst', 0.0032738504275829036),\n",
       " ('interest_only_not_int', 0.003423389481720969),\n",
       " ('loan_type_type2', 0.003926894142618736),\n",
       " ('business_or_commercial_b/c', 0.003926894142618741),\n",
       " ('Credit_Score', 0.005901634702771752),\n",
       " ('co-applicant_credit_type_EXP', 0.007956725737801866),\n",
       " ('occupancy_type_sr', 0.008861398357835252),\n",
       " ('age_25-34', 0.01117170081551046),\n",
       " ('Gender_Joint', 0.01144054538923933),\n",
       " ('loan_purpose_p4', 0.011440589159332252),\n",
       " ('Upfront_charges', 0.011465457789362424),\n",
       " ('Region_North', 0.013006913057014322),\n",
       " ('age_<25', 0.013241287913788601),\n",
       " ('construction_type_mh', 0.013816341301348187),\n",
       " ('Secured_by_land', 0.01381634130134819),\n",
       " ('Security_Type_Indriect', 0.01381634130134819),\n",
       " ('total_units_3U', 0.015876004570128815),\n",
       " ('term', 0.017069544856144165),\n",
       " ('Interest_rate_spread', 0.01880636685235186),\n",
       " ('open_credit_opc', 0.018943106875174986),\n",
       " ('age_45-54', 0.01967612495707152),\n",
       " ('occupancy_type_ir', 0.023505929464253426),\n",
       " ('Credit_Worthiness_l2', 0.023513673524965962),\n",
       " ('rate_of_interest', 0.023626504994464743),\n",
       " ('loan_amount', 0.025428832174653037),\n",
       " ('total_units_4U', 0.03290475179752366),\n",
       " ('credit_type_CIB', 0.034181533671032195),\n",
       " ('age_35-44', 0.03442288091547982),\n",
       " ('lump_sum_payment_lpsm', 0.03444985316357376),\n",
       " ('approv_in_adv_nopre', 0.03684673456126973),\n",
       " ('loan_limit_ncf', 0.03737011321296914),\n",
       " ('income', 0.04357355739897181),\n",
       " ('loan_purpose_p1', 0.044664545008592266),\n",
       " ('LTV', 0.04905159774111098)]"
      ]
     },
     "execution_count": 23,
     "metadata": {},
     "output_type": "execute_result"
    }
   ],
   "source": [
    "## Information from each column towards to the components\n",
    "sorted_d = sorted(weights.items(), key=operator.itemgetter(1))\n",
    "sorted_d"
   ]
  },
  {
   "cell_type": "markdown",
   "id": "db1cec6d-1f4d-4e94-ab2c-23206072b718",
   "metadata": {},
   "source": [
    "### Varimax rotation"
   ]
  },
  {
   "cell_type": "code",
   "execution_count": 24,
   "id": "3b478e24-fe9f-4647-95db-3dd832b6582f",
   "metadata": {},
   "outputs": [],
   "source": [
    "loadings = pca.components_.T * np.sqrt(pca.explained_variance_ratio_)\n",
    "loadings = pd.DataFrame(loadings)"
   ]
  },
  {
   "cell_type": "code",
   "execution_count": 25,
   "id": "236900e5-9227-4ffb-96d0-3af3de25fe1e",
   "metadata": {},
   "outputs": [],
   "source": [
    "def varimax(loadings, normalize=True, max_iter=500, tolerance=1e-5):\n",
    "        df = loadings.copy()\n",
    "        column_names = df.index.values\n",
    "        index_names = df.columns.values\n",
    "        n_rows, n_cols = df.shape\n",
    "        if n_cols < 2:\n",
    "            return df\n",
    "        X = df.values\n",
    "        if normalize:\n",
    "            normalized_mtx = df.apply(lambda x: np.sqrt(sum(x**2)),\n",
    "                                      axis=1).values\n",
    "            X = (X.T / normalized_mtx).T\n",
    "        rotation_mtx = np.eye(n_cols)\n",
    "\n",
    "        d = 0\n",
    "        for _ in range(max_iter):\n",
    "            old_d = d\n",
    "            basis = np.dot(X, rotation_mtx)\n",
    "            transformed = np.dot(X.T, basis**3 - (1.0 / n_rows) *\n",
    "                                 np.dot(basis, np.diag(np.diag(np.dot(basis.T, basis)))))\n",
    "            U, S, V = np.linalg.svd(transformed)\n",
    "            rotation_mtx = np.dot(U, V)\n",
    "            d = np.sum(S)\n",
    "            if old_d != 0 and d / old_d < 1 + tolerance:\n",
    "                break\n",
    "\n",
    "        X = np.dot(X, rotation_mtx)\n",
    "\n",
    "        if normalize:\n",
    "            X = X.T * normalized_mtx\n",
    "        else:\n",
    "            X = X.T\n",
    "        loadings = pd.DataFrame(X, columns=column_names, index=index_names).T\n",
    "\n",
    "        return loadings, rotation_mtx"
   ]
  },
  {
   "cell_type": "code",
   "execution_count": 26,
   "id": "e9f44449-4b8b-4e33-b318-d1ed7e82a21b",
   "metadata": {},
   "outputs": [],
   "source": [
    "rotated_loading, rotationMtx = varimax(loadings)"
   ]
  },
  {
   "cell_type": "code",
   "execution_count": 27,
   "id": "0a579f4f-5551-4aa8-9b13-d16bb6d75321",
   "metadata": {},
   "outputs": [
    {
     "data": {
      "text/html": [
       "<div>\n",
       "<style scoped>\n",
       "    .dataframe tbody tr th:only-of-type {\n",
       "        vertical-align: middle;\n",
       "    }\n",
       "\n",
       "    .dataframe tbody tr th {\n",
       "        vertical-align: top;\n",
       "    }\n",
       "\n",
       "    .dataframe thead th {\n",
       "        text-align: right;\n",
       "    }\n",
       "</style>\n",
       "<table border=\"1\" class=\"dataframe\">\n",
       "  <thead>\n",
       "    <tr style=\"text-align: right;\">\n",
       "      <th></th>\n",
       "      <th>0</th>\n",
       "      <th>1</th>\n",
       "      <th>2</th>\n",
       "      <th>3</th>\n",
       "      <th>4</th>\n",
       "      <th>5</th>\n",
       "      <th>6</th>\n",
       "      <th>7</th>\n",
       "      <th>8</th>\n",
       "      <th>9</th>\n",
       "      <th>...</th>\n",
       "      <th>20</th>\n",
       "      <th>21</th>\n",
       "      <th>22</th>\n",
       "      <th>23</th>\n",
       "      <th>24</th>\n",
       "      <th>25</th>\n",
       "      <th>26</th>\n",
       "      <th>27</th>\n",
       "      <th>28</th>\n",
       "      <th>29</th>\n",
       "    </tr>\n",
       "  </thead>\n",
       "  <tbody>\n",
       "    <tr>\n",
       "      <th>0</th>\n",
       "      <td>-0.003168</td>\n",
       "      <td>0.068611</td>\n",
       "      <td>0.039550</td>\n",
       "      <td>0.009418</td>\n",
       "      <td>-0.007707</td>\n",
       "      <td>-0.005995</td>\n",
       "      <td>0.042730</td>\n",
       "      <td>0.012900</td>\n",
       "      <td>0.022255</td>\n",
       "      <td>0.001825</td>\n",
       "      <td>...</td>\n",
       "      <td>-0.008493</td>\n",
       "      <td>-0.013866</td>\n",
       "      <td>-0.007473</td>\n",
       "      <td>0.009113</td>\n",
       "      <td>0.000437</td>\n",
       "      <td>-0.009025</td>\n",
       "      <td>0.012539</td>\n",
       "      <td>0.011678</td>\n",
       "      <td>0.007667</td>\n",
       "      <td>-0.005007</td>\n",
       "    </tr>\n",
       "    <tr>\n",
       "      <th>1</th>\n",
       "      <td>-0.000171</td>\n",
       "      <td>-0.014303</td>\n",
       "      <td>-0.032421</td>\n",
       "      <td>0.008108</td>\n",
       "      <td>0.040465</td>\n",
       "      <td>0.047172</td>\n",
       "      <td>0.004979</td>\n",
       "      <td>-0.014107</td>\n",
       "      <td>0.002664</td>\n",
       "      <td>0.001796</td>\n",
       "      <td>...</td>\n",
       "      <td>-0.014786</td>\n",
       "      <td>0.004138</td>\n",
       "      <td>0.006646</td>\n",
       "      <td>-0.026760</td>\n",
       "      <td>0.001978</td>\n",
       "      <td>0.000269</td>\n",
       "      <td>-0.004554</td>\n",
       "      <td>0.015770</td>\n",
       "      <td>0.001405</td>\n",
       "      <td>-0.003076</td>\n",
       "    </tr>\n",
       "    <tr>\n",
       "      <th>2</th>\n",
       "      <td>0.000660</td>\n",
       "      <td>-0.052591</td>\n",
       "      <td>-0.020604</td>\n",
       "      <td>0.007380</td>\n",
       "      <td>0.029429</td>\n",
       "      <td>0.044931</td>\n",
       "      <td>0.003992</td>\n",
       "      <td>-0.010660</td>\n",
       "      <td>-0.013994</td>\n",
       "      <td>0.005887</td>\n",
       "      <td>...</td>\n",
       "      <td>-0.001606</td>\n",
       "      <td>0.007077</td>\n",
       "      <td>0.011565</td>\n",
       "      <td>-0.023103</td>\n",
       "      <td>0.001557</td>\n",
       "      <td>-0.005873</td>\n",
       "      <td>-0.003002</td>\n",
       "      <td>0.008367</td>\n",
       "      <td>0.000277</td>\n",
       "      <td>0.000099</td>\n",
       "    </tr>\n",
       "    <tr>\n",
       "      <th>3</th>\n",
       "      <td>0.000047</td>\n",
       "      <td>-0.000657</td>\n",
       "      <td>-0.033637</td>\n",
       "      <td>0.008434</td>\n",
       "      <td>-0.013183</td>\n",
       "      <td>0.001884</td>\n",
       "      <td>0.003425</td>\n",
       "      <td>-0.011398</td>\n",
       "      <td>0.002709</td>\n",
       "      <td>0.007652</td>\n",
       "      <td>...</td>\n",
       "      <td>0.006111</td>\n",
       "      <td>-0.013267</td>\n",
       "      <td>-0.001830</td>\n",
       "      <td>0.031459</td>\n",
       "      <td>0.015316</td>\n",
       "      <td>-0.017829</td>\n",
       "      <td>0.043379</td>\n",
       "      <td>0.012854</td>\n",
       "      <td>0.010411</td>\n",
       "      <td>-0.009195</td>\n",
       "    </tr>\n",
       "    <tr>\n",
       "      <th>4</th>\n",
       "      <td>0.000338</td>\n",
       "      <td>0.001103</td>\n",
       "      <td>0.029781</td>\n",
       "      <td>-0.004264</td>\n",
       "      <td>0.010757</td>\n",
       "      <td>0.004054</td>\n",
       "      <td>0.014730</td>\n",
       "      <td>0.002525</td>\n",
       "      <td>0.004454</td>\n",
       "      <td>0.005902</td>\n",
       "      <td>...</td>\n",
       "      <td>-0.020339</td>\n",
       "      <td>-0.011215</td>\n",
       "      <td>-0.008547</td>\n",
       "      <td>0.010906</td>\n",
       "      <td>0.001009</td>\n",
       "      <td>0.006586</td>\n",
       "      <td>0.020456</td>\n",
       "      <td>0.018925</td>\n",
       "      <td>0.007483</td>\n",
       "      <td>-0.012648</td>\n",
       "    </tr>\n",
       "    <tr>\n",
       "      <th>...</th>\n",
       "      <td>...</td>\n",
       "      <td>...</td>\n",
       "      <td>...</td>\n",
       "      <td>...</td>\n",
       "      <td>...</td>\n",
       "      <td>...</td>\n",
       "      <td>...</td>\n",
       "      <td>...</td>\n",
       "      <td>...</td>\n",
       "      <td>...</td>\n",
       "      <td>...</td>\n",
       "      <td>...</td>\n",
       "      <td>...</td>\n",
       "      <td>...</td>\n",
       "      <td>...</td>\n",
       "      <td>...</td>\n",
       "      <td>...</td>\n",
       "      <td>...</td>\n",
       "      <td>...</td>\n",
       "      <td>...</td>\n",
       "      <td>...</td>\n",
       "    </tr>\n",
       "    <tr>\n",
       "      <th>65</th>\n",
       "      <td>-0.000068</td>\n",
       "      <td>-0.003870</td>\n",
       "      <td>-0.000343</td>\n",
       "      <td>-0.004102</td>\n",
       "      <td>0.002265</td>\n",
       "      <td>0.000108</td>\n",
       "      <td>-0.001708</td>\n",
       "      <td>0.000234</td>\n",
       "      <td>0.004408</td>\n",
       "      <td>0.001408</td>\n",
       "      <td>...</td>\n",
       "      <td>-0.004958</td>\n",
       "      <td>-0.002907</td>\n",
       "      <td>-0.002001</td>\n",
       "      <td>-0.009800</td>\n",
       "      <td>0.017852</td>\n",
       "      <td>-0.017116</td>\n",
       "      <td>0.004390</td>\n",
       "      <td>-0.012683</td>\n",
       "      <td>0.011325</td>\n",
       "      <td>-0.092486</td>\n",
       "    </tr>\n",
       "    <tr>\n",
       "      <th>66</th>\n",
       "      <td>-0.000080</td>\n",
       "      <td>-0.005464</td>\n",
       "      <td>0.010444</td>\n",
       "      <td>0.001888</td>\n",
       "      <td>0.003777</td>\n",
       "      <td>0.003577</td>\n",
       "      <td>-0.004599</td>\n",
       "      <td>-0.003228</td>\n",
       "      <td>-0.000827</td>\n",
       "      <td>-0.000252</td>\n",
       "      <td>...</td>\n",
       "      <td>0.010213</td>\n",
       "      <td>0.000286</td>\n",
       "      <td>0.001454</td>\n",
       "      <td>-0.033132</td>\n",
       "      <td>0.079106</td>\n",
       "      <td>-0.051016</td>\n",
       "      <td>0.011508</td>\n",
       "      <td>-0.034419</td>\n",
       "      <td>-0.005557</td>\n",
       "      <td>0.024707</td>\n",
       "    </tr>\n",
       "    <tr>\n",
       "      <th>67</th>\n",
       "      <td>-0.000810</td>\n",
       "      <td>-0.013410</td>\n",
       "      <td>-0.043919</td>\n",
       "      <td>0.032344</td>\n",
       "      <td>-0.051214</td>\n",
       "      <td>-0.012820</td>\n",
       "      <td>0.051655</td>\n",
       "      <td>0.046422</td>\n",
       "      <td>-0.010772</td>\n",
       "      <td>-0.013381</td>\n",
       "      <td>...</td>\n",
       "      <td>-0.007064</td>\n",
       "      <td>-0.001378</td>\n",
       "      <td>-0.005003</td>\n",
       "      <td>-0.003225</td>\n",
       "      <td>-0.012142</td>\n",
       "      <td>0.006169</td>\n",
       "      <td>-0.009317</td>\n",
       "      <td>-0.000188</td>\n",
       "      <td>-0.002427</td>\n",
       "      <td>0.001913</td>\n",
       "    </tr>\n",
       "    <tr>\n",
       "      <th>68</th>\n",
       "      <td>0.119468</td>\n",
       "      <td>0.003332</td>\n",
       "      <td>-0.000516</td>\n",
       "      <td>0.000194</td>\n",
       "      <td>-0.000398</td>\n",
       "      <td>0.000014</td>\n",
       "      <td>0.000690</td>\n",
       "      <td>-0.000269</td>\n",
       "      <td>-0.000665</td>\n",
       "      <td>-0.000184</td>\n",
       "      <td>...</td>\n",
       "      <td>-0.000085</td>\n",
       "      <td>0.000103</td>\n",
       "      <td>-0.000002</td>\n",
       "      <td>-0.000137</td>\n",
       "      <td>0.000086</td>\n",
       "      <td>0.000053</td>\n",
       "      <td>0.000071</td>\n",
       "      <td>0.000032</td>\n",
       "      <td>-0.000087</td>\n",
       "      <td>-0.000096</td>\n",
       "    </tr>\n",
       "    <tr>\n",
       "      <th>69</th>\n",
       "      <td>-0.119468</td>\n",
       "      <td>-0.003332</td>\n",
       "      <td>0.000516</td>\n",
       "      <td>-0.000194</td>\n",
       "      <td>0.000398</td>\n",
       "      <td>-0.000014</td>\n",
       "      <td>-0.000690</td>\n",
       "      <td>0.000269</td>\n",
       "      <td>0.000665</td>\n",
       "      <td>0.000184</td>\n",
       "      <td>...</td>\n",
       "      <td>0.000085</td>\n",
       "      <td>-0.000103</td>\n",
       "      <td>0.000002</td>\n",
       "      <td>0.000137</td>\n",
       "      <td>-0.000086</td>\n",
       "      <td>-0.000053</td>\n",
       "      <td>-0.000071</td>\n",
       "      <td>-0.000032</td>\n",
       "      <td>0.000087</td>\n",
       "      <td>0.000096</td>\n",
       "    </tr>\n",
       "  </tbody>\n",
       "</table>\n",
       "<p>70 rows × 30 columns</p>\n",
       "</div>"
      ],
      "text/plain": [
       "          0         1         2         3         4         5         6   \\\n",
       "0  -0.003168  0.068611  0.039550  0.009418 -0.007707 -0.005995  0.042730   \n",
       "1  -0.000171 -0.014303 -0.032421  0.008108  0.040465  0.047172  0.004979   \n",
       "2   0.000660 -0.052591 -0.020604  0.007380  0.029429  0.044931  0.003992   \n",
       "3   0.000047 -0.000657 -0.033637  0.008434 -0.013183  0.001884  0.003425   \n",
       "4   0.000338  0.001103  0.029781 -0.004264  0.010757  0.004054  0.014730   \n",
       "..       ...       ...       ...       ...       ...       ...       ...   \n",
       "65 -0.000068 -0.003870 -0.000343 -0.004102  0.002265  0.000108 -0.001708   \n",
       "66 -0.000080 -0.005464  0.010444  0.001888  0.003777  0.003577 -0.004599   \n",
       "67 -0.000810 -0.013410 -0.043919  0.032344 -0.051214 -0.012820  0.051655   \n",
       "68  0.119468  0.003332 -0.000516  0.000194 -0.000398  0.000014  0.000690   \n",
       "69 -0.119468 -0.003332  0.000516 -0.000194  0.000398 -0.000014 -0.000690   \n",
       "\n",
       "          7         8         9   ...        20        21        22        23  \\\n",
       "0   0.012900  0.022255  0.001825  ... -0.008493 -0.013866 -0.007473  0.009113   \n",
       "1  -0.014107  0.002664  0.001796  ... -0.014786  0.004138  0.006646 -0.026760   \n",
       "2  -0.010660 -0.013994  0.005887  ... -0.001606  0.007077  0.011565 -0.023103   \n",
       "3  -0.011398  0.002709  0.007652  ...  0.006111 -0.013267 -0.001830  0.031459   \n",
       "4   0.002525  0.004454  0.005902  ... -0.020339 -0.011215 -0.008547  0.010906   \n",
       "..       ...       ...       ...  ...       ...       ...       ...       ...   \n",
       "65  0.000234  0.004408  0.001408  ... -0.004958 -0.002907 -0.002001 -0.009800   \n",
       "66 -0.003228 -0.000827 -0.000252  ...  0.010213  0.000286  0.001454 -0.033132   \n",
       "67  0.046422 -0.010772 -0.013381  ... -0.007064 -0.001378 -0.005003 -0.003225   \n",
       "68 -0.000269 -0.000665 -0.000184  ... -0.000085  0.000103 -0.000002 -0.000137   \n",
       "69  0.000269  0.000665  0.000184  ...  0.000085 -0.000103  0.000002  0.000137   \n",
       "\n",
       "          24        25        26        27        28        29  \n",
       "0   0.000437 -0.009025  0.012539  0.011678  0.007667 -0.005007  \n",
       "1   0.001978  0.000269 -0.004554  0.015770  0.001405 -0.003076  \n",
       "2   0.001557 -0.005873 -0.003002  0.008367  0.000277  0.000099  \n",
       "3   0.015316 -0.017829  0.043379  0.012854  0.010411 -0.009195  \n",
       "4   0.001009  0.006586  0.020456  0.018925  0.007483 -0.012648  \n",
       "..       ...       ...       ...       ...       ...       ...  \n",
       "65  0.017852 -0.017116  0.004390 -0.012683  0.011325 -0.092486  \n",
       "66  0.079106 -0.051016  0.011508 -0.034419 -0.005557  0.024707  \n",
       "67 -0.012142  0.006169 -0.009317 -0.000188 -0.002427  0.001913  \n",
       "68  0.000086  0.000053  0.000071  0.000032 -0.000087 -0.000096  \n",
       "69 -0.000086 -0.000053 -0.000071 -0.000032  0.000087  0.000096  \n",
       "\n",
       "[70 rows x 30 columns]"
      ]
     },
     "execution_count": 27,
     "metadata": {},
     "output_type": "execute_result"
    }
   ],
   "source": [
    "loadings"
   ]
  },
  {
   "cell_type": "code",
   "execution_count": null,
   "id": "246b19dd-e979-4475-9744-40c8c4c2bdfa",
   "metadata": {},
   "outputs": [],
   "source": []
  }
 ],
 "metadata": {
  "kernelspec": {
   "display_name": "Python 3 (ipykernel)",
   "language": "python",
   "name": "python3"
  },
  "language_info": {
   "codemirror_mode": {
    "name": "ipython",
    "version": 3
   },
   "file_extension": ".py",
   "mimetype": "text/x-python",
   "name": "python",
   "nbconvert_exporter": "python",
   "pygments_lexer": "ipython3",
   "version": "3.8.10"
  },
  "widgets": {
   "application/vnd.jupyter.widget-state+json": {
    "state": {},
    "version_major": 2,
    "version_minor": 0
   }
  }
 },
 "nbformat": 4,
 "nbformat_minor": 5
}
