{
 "cells": [
  {
   "cell_type": "code",
   "execution_count": null,
   "id": "fbefb947-ebe1-4aab-8f22-e2759a584878",
   "metadata": {},
   "outputs": [],
   "source": [
    "import pandas as pd\n",
    "import numpy as np\n",
    "import matplotlib.pyplot as plt\n",
    "import seaborn as sns\n",
    "import scipy as sc\n",
    "sns.set_theme(context=\"notebook\", font_scale=1.2)\n",
    "import warnings\n",
    "warnings.filterwarnings('ignore')"
   ]
  },
  {
   "cell_type": "code",
   "execution_count": null,
   "id": "705679c5-cef0-4dd0-ac84-fb11678678bd",
   "metadata": {},
   "outputs": [],
   "source": [
    "data = pd.read_csv(\"Loan_Default.csv\")"
   ]
  },
  {
   "cell_type": "code",
   "execution_count": null,
   "id": "7b054b81-7afa-4a85-bf3f-f09142eb5b25",
   "metadata": {},
   "outputs": [],
   "source": [
    "data.drop(columns=[\"ID\"], inplace=True)"
   ]
  },
  {
   "cell_type": "code",
   "execution_count": null,
   "id": "949ffbda-9877-4cf5-a5cd-a1f207e1d545",
   "metadata": {},
   "outputs": [],
   "source": [
    "data.head()"
   ]
  },
  {
   "cell_type": "code",
   "execution_count": null,
   "id": "7b079309-341d-41f8-9676-4adede43b5ff",
   "metadata": {},
   "outputs": [],
   "source": [
    "data = data.infer_objects()"
   ]
  },
  {
   "cell_type": "code",
   "execution_count": null,
   "id": "a65ee7ea-a349-44a0-92f4-5eb7a1c0ea40",
   "metadata": {},
   "outputs": [],
   "source": [
    "data['loan_amount'] = data['loan_amount'].astype('float')\n",
    "data['Credit_Score'] = data['Credit_Score'].astype('float')\n",
    "data.describe()"
   ]
  },
  {
   "cell_type": "code",
   "execution_count": null,
   "id": "907e7017-4d56-4030-9700-3e04282d98eb",
   "metadata": {},
   "outputs": [],
   "source": [
    "fig, ax = plt.subplots(3, 3, figsize=[20, 15])\n",
    "sns.histplot(data=data, x='loan_amount', ax=ax[0][0], color='blue', alpha=0.5, bins=50, kde=True)\n",
    "sns.histplot(data=data, x='rate_of_interest', ax=ax[0][1], color='green', alpha=0.5, bins=50, kde=True)\n",
    "sns.histplot(data=data, x='Interest_rate_spread', ax=ax[0][2], color='red', alpha=0.5, bins=50, kde=True)\n",
    "sns.histplot(data=data, x='Upfront_charges', ax=ax[1][0], color='pink', alpha=0.5, bins=50, kde=True)\n",
    "sns.histplot(data=data, x='property_value', ax=ax[1][1], color='black', alpha=0.5, bins=50, kde=True)\n",
    "sns.histplot(data=data, x='income', ax=ax[1][2], color='teal', alpha=0.5, bins=50, kde=True)\n",
    "sns.histplot(data=data, x='LTV', ax=ax[2][0], color='yellow', alpha=0.5, bins=50, kde=True)\n",
    "sns.histplot(data=data, x='Credit_Score', ax=ax[2][1], color='black', alpha=0.5, bins=50, kde=True)\n",
    "sns.histplot(data=data, x='dtir1', ax=ax[2][2], color='brown', alpha=0.5, bins=50, kde=True)\n",
    "plt.show()"
   ]
  },
  {
   "cell_type": "code",
   "execution_count": null,
   "id": "492ee969-ebb7-4704-9237-1492c504c145",
   "metadata": {},
   "outputs": [],
   "source": [
    "data.dtypes"
   ]
  },
  {
   "cell_type": "code",
   "execution_count": null,
   "id": "d87696f8-b61a-49f4-8305-09027dcc1976",
   "metadata": {},
   "outputs": [],
   "source": [
    "data.isna().sum()"
   ]
  },
  {
   "cell_type": "code",
   "execution_count": null,
   "id": "6049bc01-2c82-4371-bcc2-c115ca2b7588",
   "metadata": {},
   "outputs": [],
   "source": [
    "data.shape"
   ]
  },
  {
   "cell_type": "code",
   "execution_count": null,
   "id": "25a6f6cf-7079-4f3d-8e08-fc43c9844f3b",
   "metadata": {},
   "outputs": [],
   "source": [
    "data = data.fillna(method=\"ffill\") ## Need to check this for the future"
   ]
  },
  {
   "cell_type": "code",
   "execution_count": null,
   "id": "cda84c9c-eecc-4f46-a1e2-9fc6cf8f6efd",
   "metadata": {},
   "outputs": [],
   "source": [
    "data.isna().sum().sum()"
   ]
  },
  {
   "cell_type": "code",
   "execution_count": null,
   "id": "d673abc5-48d4-4205-97fa-6da2142d01c1",
   "metadata": {},
   "outputs": [],
   "source": [
    "sns.countplot(data[\"Status\"])\n",
    "plt.show()"
   ]
  },
  {
   "cell_type": "code",
   "execution_count": null,
   "id": "2aad35a0-7553-4d59-805f-1f38f845cd39",
   "metadata": {},
   "outputs": [],
   "source": [
    "data = data.infer_objects()"
   ]
  },
  {
   "cell_type": "code",
   "execution_count": null,
   "id": "ce28169a-96b1-4543-954a-c5c2f21a8129",
   "metadata": {},
   "outputs": [],
   "source": [
    "data.dtypes.unique()"
   ]
  },
  {
   "cell_type": "code",
   "execution_count": null,
   "id": "b202c7a9-d13c-47a6-82c7-90b8521b0990",
   "metadata": {},
   "outputs": [],
   "source": [
    "object_cols = data.select_dtypes('O').columns\n",
    "for i in object_cols:\n",
    "    print(f\"Column: {i} -- contains -- \\t\\t {data[i].unique()}\")"
   ]
  },
  {
   "cell_type": "code",
   "execution_count": null,
   "id": "c385b22b-e0ed-480c-98ab-7730f06c558a",
   "metadata": {},
   "outputs": [],
   "source": [
    "data = pd.get_dummies(data)\n",
    "data.reset_index(drop=True, inplace=True)"
   ]
  },
  {
   "cell_type": "code",
   "execution_count": null,
   "id": "9531c180-c5e3-4afa-a74e-29d2b47c1658",
   "metadata": {},
   "outputs": [],
   "source": [
    "data.shape"
   ]
  },
  {
   "cell_type": "code",
   "execution_count": null,
   "id": "53e16c09-cc38-4b8e-91e2-953a4a2e14b1",
   "metadata": {},
   "outputs": [],
   "source": [
    "plt.figure(figsize=[25,20])\n",
    "co = data.corr()\n",
    "sns.heatmap(co, linewidth=0.05)\n",
    "plt.show()"
   ]
  },
  {
   "cell_type": "code",
   "execution_count": null,
   "id": "08fdb7c9-00b1-4688-a940-802a05bb581d",
   "metadata": {},
   "outputs": [],
   "source": [
    "data.select_dtypes('float').columns"
   ]
  },
  {
   "cell_type": "code",
   "execution_count": null,
   "id": "74afe9e8-a3c6-4e43-8385-98bb06e9a0af",
   "metadata": {},
   "outputs": [],
   "source": [
    "fig, ax = plt.subplots(3, 3, figsize=[20, 15])\n",
    "sns.scatterplot(data[\"loan_amount\"], data[\"rate_of_interest\"], ax=ax[0][0], color='blue')\n",
    "sns.scatterplot(data[\"loan_amount\"], data[\"Interest_rate_spread\"], ax=ax[0][1], color='green')\n",
    "sns.scatterplot(data[\"rate_of_interest\"], data[\"Interest_rate_spread\"], ax=ax[0][2], color='red')\n",
    "sns.scatterplot(data[\"income\"], data[\"Upfront_charges\"], ax=ax[1][0], color='pink')\n",
    "sns.scatterplot(data[\"loan_amount\"], data[\"income\"], ax=ax[1][1], color='black')\n",
    "sns.scatterplot(data[\"property_value\"], data[\"income\"], ax=ax[1][2], color='teal')\n",
    "sns.scatterplot(data[\"income\"], data[\"rate_of_interest\"], ax=ax[2][0], color='yellow')\n",
    "sns.scatterplot(data[\"loan_amount\"], data[\"property_value\"], ax=ax[2][1], color='brown')\n",
    "sns.scatterplot(data[\"loan_amount\"], data[\"Interest_rate_spread\"], ax=ax[2][2], color='black')\n",
    "plt.show()"
   ]
  },
  {
   "cell_type": "code",
   "execution_count": null,
   "id": "b91c3614-6f27-4682-b58f-12fcf3334f65",
   "metadata": {},
   "outputs": [],
   "source": []
  }
 ],
 "metadata": {
  "kernelspec": {
   "display_name": "Python 3 (ipykernel)",
   "language": "python",
   "name": "python3"
  },
  "language_info": {
   "codemirror_mode": {
    "name": "ipython",
    "version": 3
   },
   "file_extension": ".py",
   "mimetype": "text/x-python",
   "name": "python",
   "nbconvert_exporter": "python",
   "pygments_lexer": "ipython3",
   "version": "3.8.10"
  },
  "widgets": {
   "application/vnd.jupyter.widget-state+json": {
    "state": {},
    "version_major": 2,
    "version_minor": 0
   }
  }
 },
 "nbformat": 4,
 "nbformat_minor": 5
}
