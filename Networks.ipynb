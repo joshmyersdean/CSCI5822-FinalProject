{
 "cells": [
  {
   "cell_type": "markdown",
   "id": "395814e2-dc32-4de0-948f-271aa236bd0c",
   "metadata": {},
   "source": [
    "# Networks\n",
    "The purpose of this notebook is to create a visualization of the network given our features, parameters, and sub-parameters for a logistic regression model."
   ]
  },
  {
   "cell_type": "code",
   "execution_count": 1,
   "id": "7c5e14f4",
   "metadata": {
    "tags": []
   },
   "outputs": [],
   "source": [
    "# imports\n",
    "import pandas as pd\n",
    "import numpy as np\n",
    "import matplotlib.pyplot as plt\n",
    "from sklearn.preprocessing import MinMaxScaler\n",
    "import seaborn as sns\n",
    "import statsmodels.api as sm\n",
    "import networkx as nx\n",
    "import scipy as sc\n",
    "import pickle\n",
    "sns.set_theme(context=\"notebook\", font_scale=1.2)\n",
    "import warnings\n",
    "warnings.filterwarnings('ignore')"
   ]
  },
  {
   "cell_type": "code",
   "execution_count": 2,
   "id": "66b7a13d-7988-493e-90d2-f0b24cfd5acb",
   "metadata": {
    "tags": []
   },
   "outputs": [],
   "source": [
    "scaler = MinMaxScaler()"
   ]
  },
  {
   "cell_type": "markdown",
   "id": "b744a013-f1fa-459c-9f04-cecedad05fb8",
   "metadata": {},
   "source": [
    "## Preprocessing\n",
    "Using the relevant features found in `EDA.ipynb`, we perform mean value imputation and normalize each feature to be in the range $[0,1]$."
   ]
  },
  {
   "cell_type": "code",
   "execution_count": 3,
   "id": "3605dff6",
   "metadata": {
    "tags": []
   },
   "outputs": [
    {
     "data": {
      "text/html": [
       "<div>\n",
       "<style scoped>\n",
       "    .dataframe tbody tr th:only-of-type {\n",
       "        vertical-align: middle;\n",
       "    }\n",
       "\n",
       "    .dataframe tbody tr th {\n",
       "        vertical-align: top;\n",
       "    }\n",
       "\n",
       "    .dataframe thead th {\n",
       "        text-align: right;\n",
       "    }\n",
       "</style>\n",
       "<table border=\"1\" class=\"dataframe\">\n",
       "  <thead>\n",
       "    <tr style=\"text-align: right;\">\n",
       "      <th></th>\n",
       "      <th>loan_amount</th>\n",
       "      <th>rate_of_interest</th>\n",
       "      <th>Interest_rate_spread</th>\n",
       "      <th>Upfront_charges</th>\n",
       "      <th>property_value</th>\n",
       "      <th>income</th>\n",
       "      <th>LTV</th>\n",
       "      <th>Credit_Score</th>\n",
       "      <th>dtir1</th>\n",
       "      <th>Status</th>\n",
       "    </tr>\n",
       "  </thead>\n",
       "  <tbody>\n",
       "    <tr>\n",
       "      <th>0</th>\n",
       "      <td>0.028090</td>\n",
       "      <td>0.505684</td>\n",
       "      <td>0.583225</td>\n",
       "      <td>0.053750</td>\n",
       "      <td>0.006667</td>\n",
       "      <td>0.003007</td>\n",
       "      <td>0.012485</td>\n",
       "      <td>0.6450</td>\n",
       "      <td>0.714286</td>\n",
       "      <td>1</td>\n",
       "    </tr>\n",
       "    <tr>\n",
       "      <th>1</th>\n",
       "      <td>0.053371</td>\n",
       "      <td>0.505684</td>\n",
       "      <td>0.583225</td>\n",
       "      <td>0.053750</td>\n",
       "      <td>0.029691</td>\n",
       "      <td>0.008607</td>\n",
       "      <td>0.009167</td>\n",
       "      <td>0.1300</td>\n",
       "      <td>0.584517</td>\n",
       "      <td>1</td>\n",
       "    </tr>\n",
       "    <tr>\n",
       "      <th>2</th>\n",
       "      <td>0.109551</td>\n",
       "      <td>0.570000</td>\n",
       "      <td>0.548678</td>\n",
       "      <td>0.009917</td>\n",
       "      <td>0.030303</td>\n",
       "      <td>0.016385</td>\n",
       "      <td>0.010096</td>\n",
       "      <td>0.8350</td>\n",
       "      <td>0.732143</td>\n",
       "      <td>0</td>\n",
       "    </tr>\n",
       "    <tr>\n",
       "      <th>3</th>\n",
       "      <td>0.123596</td>\n",
       "      <td>0.531250</td>\n",
       "      <td>0.617441</td>\n",
       "      <td>0.053750</td>\n",
       "      <td>0.039394</td>\n",
       "      <td>0.020533</td>\n",
       "      <td>0.008737</td>\n",
       "      <td>0.2175</td>\n",
       "      <td>0.660714</td>\n",
       "      <td>0</td>\n",
       "    </tr>\n",
       "    <tr>\n",
       "      <th>4</th>\n",
       "      <td>0.191011</td>\n",
       "      <td>0.500000</td>\n",
       "      <td>0.563574</td>\n",
       "      <td>0.000000</td>\n",
       "      <td>0.045455</td>\n",
       "      <td>0.018044</td>\n",
       "      <td>0.011611</td>\n",
       "      <td>0.2550</td>\n",
       "      <td>0.607143</td>\n",
       "      <td>0</td>\n",
       "    </tr>\n",
       "  </tbody>\n",
       "</table>\n",
       "</div>"
      ],
      "text/plain": [
       "   loan_amount  rate_of_interest  Interest_rate_spread  Upfront_charges  \\\n",
       "0     0.028090          0.505684              0.583225         0.053750   \n",
       "1     0.053371          0.505684              0.583225         0.053750   \n",
       "2     0.109551          0.570000              0.548678         0.009917   \n",
       "3     0.123596          0.531250              0.617441         0.053750   \n",
       "4     0.191011          0.500000              0.563574         0.000000   \n",
       "\n",
       "   property_value    income       LTV  Credit_Score     dtir1  Status  \n",
       "0        0.006667  0.003007  0.012485        0.6450  0.714286       1  \n",
       "1        0.029691  0.008607  0.009167        0.1300  0.584517       1  \n",
       "2        0.030303  0.016385  0.010096        0.8350  0.732143       0  \n",
       "3        0.039394  0.020533  0.008737        0.2175  0.660714       0  \n",
       "4        0.045455  0.018044  0.011611        0.2550  0.607143       0  "
      ]
     },
     "execution_count": 3,
     "metadata": {},
     "output_type": "execute_result"
    }
   ],
   "source": [
    "data = pd.read_csv(\"Loan_Default.csv\")\n",
    "data.drop(columns=[\"ID\"], inplace=True)\n",
    "data = data[['loan_amount', 'rate_of_interest', 'Interest_rate_spread', \n",
    "             'Upfront_charges', 'property_value', 'income', 'LTV', 'Credit_Score', 'dtir1', 'Status']\n",
    "]\n",
    "data = data.infer_objects()\n",
    "data.fillna(data.mean(), inplace=True)\n",
    "feat_cols = ['loan_amount', 'rate_of_interest', 'Interest_rate_spread', \n",
    "             'Upfront_charges', 'property_value', 'income', 'LTV', 'Credit_Score', 'dtir1']\n",
    "data[feat_cols] = scaler.fit_transform(data[feat_cols])\n",
    "data.head()"
   ]
  },
  {
   "cell_type": "markdown",
   "id": "216c9cea-eb8b-42ee-aaba-a712bc9868e8",
   "metadata": {},
   "source": [
    "## Frequentist Parameter Estimate"
   ]
  },
  {
   "cell_type": "markdown",
   "id": "a1b30fe6-f7f0-4336-bb4a-a87e1b8077be",
   "metadata": {},
   "source": [
    "Now we extract the frequentist estimate for the parameters belonging to out known features. Since we do not know anything about $\\beta_0$, the intercept, we can play around with values for the mean and the variance. We assume all $\\beta$'s follow a normal distribution."
   ]
  },
  {
   "cell_type": "code",
   "execution_count": 4,
   "id": "2da8b3db",
   "metadata": {
    "tags": []
   },
   "outputs": [
    {
     "name": "stdout",
     "output_type": "stream",
     "text": [
      "Optimization terminated successfully.\n",
      "         Current function value: 0.554504\n",
      "         Iterations 6\n",
      "Means: [-1.53568940e+00 -1.65196540e-01 -2.05948843e+00 -3.09079859e-02\n",
      "  6.22238489e-01 -2.05294486e+01  3.32149058e+01 -1.96002650e-02\n",
      "  3.89763154e-01]\n",
      "Variances: [5.29895563e-02 1.56421816e-02 1.33641765e-02 1.81531209e-02\n",
      " 3.37777535e-01 1.17255145e+00 1.13936624e+01 4.26206275e-04\n",
      " 1.43028258e-03]\n"
     ]
    }
   ],
   "source": [
    "X = data[feat_cols]\n",
    "y = data['Status']\n",
    "model = sm.Logit(y, X)\n",
    "results = model.fit()\n",
    "prior_mean = results.params\n",
    "prior_var = np.diag(results.cov_params())\n",
    "print('Means:',prior_mean.values)\n",
    "print('Variances:', prior_var)"
   ]
  },
  {
   "cell_type": "code",
   "execution_count": 5,
   "id": "c3afea9a-c2b4-426d-8cb7-951931c66773",
   "metadata": {
    "tags": []
   },
   "outputs": [
    {
     "data": {
      "text/plain": [
       "[(0, 1),\n",
       " [(-1.5356894018028753, 0.05298955627987003)],\n",
       " [(-0.1651965403208456, 0.01564218161691876)],\n",
       " [(-2.0594884325578597, 0.0133641765092344)],\n",
       " [(-0.03090798594652215, 0.018153120865576227)],\n",
       " [(0.6222384888572042, 0.3377775347927135)],\n",
       " [(-20.52944861465043, 1.1725514547879035)],\n",
       " [(33.21490575181182, 11.393662421052529)],\n",
       " [(-0.019600264999902507, 0.0004262062754423966)],\n",
       " [(0.38976315442921805, 0.0014302825837924792)]]"
      ]
     },
     "execution_count": 5,
     "metadata": {},
     "output_type": "execute_result"
    }
   ],
   "source": [
    "params = [(0,1)]\n",
    "for m,v in zip(prior_mean.values, prior_var):\n",
    "    params.append([(m,v)])\n",
    "params"
   ]
  },
  {
   "cell_type": "code",
   "execution_count": 6,
   "id": "3c41cc82-fc98-4416-b301-ec248f807b5c",
   "metadata": {
    "tags": []
   },
   "outputs": [],
   "source": [
    "# with open('prior_params.pkl', 'wb') as f:\n",
    "#     pickle.dump(params, f)"
   ]
  },
  {
   "cell_type": "markdown",
   "id": "3435f35c-b971-4356-a6df-54d45b9f4a40",
   "metadata": {},
   "source": [
    "## Network Visualization"
   ]
  },
  {
   "cell_type": "markdown",
   "id": "d1af6b56-6687-4b7b-9154-f1e99c3ec28d",
   "metadata": {},
   "source": [
    "We now construct a network for all of our parameters. Since the sub-parameters for each $\\beta$ vary, each $\\beta$ will have it's own $\\mu$ and $\\sigma^2$."
   ]
  },
  {
   "cell_type": "code",
   "execution_count": 7,
   "id": "b6f7c90e",
   "metadata": {
    "tags": []
   },
   "outputs": [
    {
     "data": {
      "image/png": "[encoded data removed]",
      "text/plain": [
       "<Figure size 640x480 with 1 Axes>"
      ]
     },
     "metadata": {},
     "output_type": "display_data"
    }
   ],
   "source": [
    "nodes = ['Y', 'P']\n",
    "for i in range(1,10):\n",
    "    nodes.append(rf'$x_{i}$')\n",
    "\n",
    "edges = [('P', 'Y'),(r'$x_1$', 'P'), (r'$x_2$', 'P'), (r'$x_3$', 'P'), (r'$x_4$', 'P'), (r'$x_5$', 'P'), (r'$x_6$', 'P'), \n",
    "         (r'$x_7$', 'P'), (r'$x_8$', 'P'), (r'$x_9$', 'P'),\n",
    "         (r'$\\beta_0$', 'P'), (r'$\\beta_1$', 'P'), (r'$\\beta_2$', 'P'), (r'$\\beta_3$', 'P'), \n",
    "         (r'$\\beta_4$', 'P'), (r'$\\beta_5$', 'P'), (r'$\\beta_6$', 'P'), (r'$\\beta_7$', 'P'), \n",
    "         (r'$\\beta_8$', 'P'), (r'$\\beta_9$', 'P')]\n",
    "for i in range(10):\n",
    "    nodes.append(rf'$\\beta_{i}$')\n",
    "    nodes.append(rf'$\\mu_{i}$')\n",
    "    nodes.append(rf'$\\sigma_{i}$')\n",
    "    edges += [(rf'$\\beta_{i}$', 'P'), (rf'$\\mu_{i}$', rf'$\\beta_{i}$'), (rf'$\\sigma_{i}$',rf'$\\beta_{i}$')]\n",
    "\n",
    "# Create the graph\n",
    "G = nx.DiGraph()\n",
    "G.add_nodes_from(nodes)\n",
    "G.add_edges_from(edges)\n",
    "\n",
    "# Plot the graph\n",
    "pos = {}\n",
    "x_pos = np.linspace(-20,20,10)\n",
    "b_pos = np.linspace(-100,100,10)\n",
    "for i in range(1,10):\n",
    "    pos[rf'$x_{i}$'] = (x_pos[i],30)\n",
    "for i in range(10):\n",
    "    pos[rf'$\\beta_{i}$'] = (-30, b_pos[i])\n",
    "    pos[rf'$\\mu_{i}$'] = (-45, b_pos[i]-10)\n",
    "    pos[rf'$\\sigma_{i}$'] = (-45, b_pos[i])\n",
    "pos['P'] = (0,0)\n",
    "pos['Y'] = (0, -30)\n",
    "nx.draw_networkx_nodes(G, pos, node_color='gold', node_size=200)\n",
    "nx.draw_networkx_edges(G, pos, edge_color='black')\n",
    "nx.draw_networkx_labels(G, pos, font_size=10, font_family='sans-serif')\n",
    "plt.axis('off')\n",
    "plt.show()\n"
   ]
  }
 ],
 "metadata": {
  "kernelspec": {
   "display_name": "rowf",
   "language": "python",
   "name": "rowf"
  },
  "language_info": {
   "codemirror_mode": {
    "name": "ipython",
    "version": 3
   },
   "file_extension": ".py",
   "mimetype": "text/x-python",
   "name": "python",
   "nbconvert_exporter": "python",
   "pygments_lexer": "ipython3",
   "version": "3.9.13"
  }
 },
 "nbformat": 4,
 "nbformat_minor": 5
}
