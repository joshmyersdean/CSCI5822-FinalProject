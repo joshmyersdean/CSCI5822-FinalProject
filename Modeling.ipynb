{
 "cells": [
  {
   "cell_type": "markdown",
   "id": "dff5d134-f9bd-4f7f-ab81-7b892b86f95a",
   "metadata": {},
   "source": [
    "# Modeling\n",
    "In this notebook we perform our Bayesian Logistic Regression using MCMC."
   ]
  },
  {
   "cell_type": "code",
   "execution_count": 1,
   "id": "cbb94c64-03a9-4677-af53-580307185e88",
   "metadata": {
    "tags": []
   },
   "outputs": [],
   "source": [
    "# imports\n",
    "import pandas as pd\n",
    "import numpy as np\n",
    "import matplotlib.pyplot as plt\n",
    "from sklearn.preprocessing import MinMaxScaler, StandardScaler\n",
    "import seaborn as sns\n",
    "import statsmodels.api as sm\n",
    "import networkx as nx\n",
    "import scipy as sc\n",
    "import pickle\n",
    "import pymc3 as pm\n",
    "import arviz as az\n",
    "from sklearn.metrics import f1_score, accuracy_score, auc, classification_report\n",
    "import os\n",
    "sns.set_theme(context=\"notebook\", font_scale=1.2)\n",
    "import warnings\n",
    "warnings.filterwarnings('ignore')"
   ]
  },
  {
   "cell_type": "markdown",
   "id": "21e01bc1-4372-4669-b5fb-3ead3f74cd81",
   "metadata": {},
   "source": [
    "## Data \n",
    "Since some of our variables are binary, we perform min-max scaling such that all features are in the range $[0,1]$."
   ]
  },
  {
   "cell_type": "code",
   "execution_count": 2,
   "id": "f43e2590-2ec8-4614-88e8-e144c26925c2",
   "metadata": {
    "tags": []
   },
   "outputs": [],
   "source": [
    "scaler = StandardScaler()"
   ]
  },
  {
   "cell_type": "code",
   "execution_count": 3,
   "id": "efb61d12-8194-4f5c-aba7-bf4c28ed4b1a",
   "metadata": {
    "tags": []
   },
   "outputs": [],
   "source": [
    "with open('feat_cols.pkl', 'rb') as f:\n",
    "    feat_cols = pickle.load(f)"
   ]
  },
  {
   "cell_type": "code",
   "execution_count": 4,
   "id": "37f62d71-6dde-4dff-9e52-484e6182a22a",
   "metadata": {
    "tags": []
   },
   "outputs": [
    {
     "data": {
      "text/html": [
       "<div>\n",
       "<style scoped>\n",
       "    .dataframe tbody tr th:only-of-type {\n",
       "        vertical-align: middle;\n",
       "    }\n",
       "\n",
       "    .dataframe tbody tr th {\n",
       "        vertical-align: top;\n",
       "    }\n",
       "\n",
       "    .dataframe thead th {\n",
       "        text-align: right;\n",
       "    }\n",
       "</style>\n",
       "<table border=\"1\" class=\"dataframe\">\n",
       "  <thead>\n",
       "    <tr style=\"text-align: right;\">\n",
       "      <th></th>\n",
       "      <th>co-applicant_credit_type_EXP</th>\n",
       "      <th>Gender_Joint</th>\n",
       "      <th>total_units_3U</th>\n",
       "      <th>Upfront_charges</th>\n",
       "      <th>Neg_ammortization_neg_amm</th>\n",
       "      <th>construction_type_mh</th>\n",
       "      <th>Secured_by_land</th>\n",
       "      <th>Security_Type_Indriect</th>\n",
       "      <th>occupancy_type_sr</th>\n",
       "      <th>Region_North</th>\n",
       "      <th>...</th>\n",
       "      <th>age_&lt;25</th>\n",
       "      <th>approv_in_adv_nopre</th>\n",
       "      <th>age_35-44</th>\n",
       "      <th>lump_sum_payment_lpsm</th>\n",
       "      <th>credit_type_CIB</th>\n",
       "      <th>income</th>\n",
       "      <th>loan_limit_ncf</th>\n",
       "      <th>loan_purpose_p1</th>\n",
       "      <th>LTV</th>\n",
       "      <th>Status</th>\n",
       "    </tr>\n",
       "  </thead>\n",
       "  <tbody>\n",
       "    <tr>\n",
       "      <th>0</th>\n",
       "      <td>-0.999233</td>\n",
       "      <td>-0.621238</td>\n",
       "      <td>-0.051483</td>\n",
       "      <td>-0.810002</td>\n",
       "      <td>2.969554</td>\n",
       "      <td>-0.0149</td>\n",
       "      <td>-0.0149</td>\n",
       "      <td>-0.0149</td>\n",
       "      <td>-0.146627</td>\n",
       "      <td>-1.005220</td>\n",
       "      <td>...</td>\n",
       "      <td>-0.095298</td>\n",
       "      <td>-2.320734</td>\n",
       "      <td>1.877235</td>\n",
       "      <td>-0.152595</td>\n",
       "      <td>-0.692133</td>\n",
       "      <td>0.391336</td>\n",
       "      <td>-0.27121</td>\n",
       "      <td>1.817171</td>\n",
       "      <td>0.190766</td>\n",
       "      <td>0</td>\n",
       "    </tr>\n",
       "    <tr>\n",
       "      <th>1</th>\n",
       "      <td>-0.999233</td>\n",
       "      <td>-0.621238</td>\n",
       "      <td>-0.051483</td>\n",
       "      <td>-0.810002</td>\n",
       "      <td>-0.336751</td>\n",
       "      <td>-0.0149</td>\n",
       "      <td>-0.0149</td>\n",
       "      <td>-0.0149</td>\n",
       "      <td>-0.146627</td>\n",
       "      <td>0.994807</td>\n",
       "      <td>...</td>\n",
       "      <td>-0.095298</td>\n",
       "      <td>0.430898</td>\n",
       "      <td>-0.532698</td>\n",
       "      <td>-0.152595</td>\n",
       "      <td>-0.692133</td>\n",
       "      <td>0.763653</td>\n",
       "      <td>-0.27121</td>\n",
       "      <td>-0.550306</td>\n",
       "      <td>-0.086685</td>\n",
       "      <td>0</td>\n",
       "    </tr>\n",
       "    <tr>\n",
       "      <th>2</th>\n",
       "      <td>1.000767</td>\n",
       "      <td>1.609690</td>\n",
       "      <td>-0.051483</td>\n",
       "      <td>-0.993270</td>\n",
       "      <td>-0.336751</td>\n",
       "      <td>-0.0149</td>\n",
       "      <td>-0.0149</td>\n",
       "      <td>-0.0149</td>\n",
       "      <td>-0.146627</td>\n",
       "      <td>0.994807</td>\n",
       "      <td>...</td>\n",
       "      <td>-0.095298</td>\n",
       "      <td>-2.320734</td>\n",
       "      <td>-0.532698</td>\n",
       "      <td>-0.152595</td>\n",
       "      <td>-0.692133</td>\n",
       "      <td>0.540263</td>\n",
       "      <td>-0.27121</td>\n",
       "      <td>1.817171</td>\n",
       "      <td>0.500127</td>\n",
       "      <td>0</td>\n",
       "    </tr>\n",
       "    <tr>\n",
       "      <th>3</th>\n",
       "      <td>1.000767</td>\n",
       "      <td>1.609690</td>\n",
       "      <td>-0.051483</td>\n",
       "      <td>-0.879305</td>\n",
       "      <td>-0.336751</td>\n",
       "      <td>-0.0149</td>\n",
       "      <td>-0.0149</td>\n",
       "      <td>-0.0149</td>\n",
       "      <td>-0.146627</td>\n",
       "      <td>0.994807</td>\n",
       "      <td>...</td>\n",
       "      <td>-0.095298</td>\n",
       "      <td>-2.320734</td>\n",
       "      <td>1.877235</td>\n",
       "      <td>-0.152595</td>\n",
       "      <td>-0.692133</td>\n",
       "      <td>0.484415</td>\n",
       "      <td>-0.27121</td>\n",
       "      <td>1.817171</td>\n",
       "      <td>-0.068113</td>\n",
       "      <td>0</td>\n",
       "    </tr>\n",
       "    <tr>\n",
       "      <th>4</th>\n",
       "      <td>1.000767</td>\n",
       "      <td>1.609690</td>\n",
       "      <td>-0.051483</td>\n",
       "      <td>0.583759</td>\n",
       "      <td>-0.336751</td>\n",
       "      <td>-0.0149</td>\n",
       "      <td>-0.0149</td>\n",
       "      <td>-0.0149</td>\n",
       "      <td>-0.146627</td>\n",
       "      <td>0.994807</td>\n",
       "      <td>...</td>\n",
       "      <td>-0.095298</td>\n",
       "      <td>-2.320734</td>\n",
       "      <td>-0.532698</td>\n",
       "      <td>-0.152595</td>\n",
       "      <td>-0.692133</td>\n",
       "      <td>-0.297449</td>\n",
       "      <td>-0.27121</td>\n",
       "      <td>-0.550306</td>\n",
       "      <td>0.167040</td>\n",
       "      <td>0</td>\n",
       "    </tr>\n",
       "  </tbody>\n",
       "</table>\n",
       "<p>5 rows × 31 columns</p>\n",
       "</div>"
      ],
      "text/plain": [
       "   co-applicant_credit_type_EXP  Gender_Joint  total_units_3U  \\\n",
       "0                     -0.999233     -0.621238       -0.051483   \n",
       "1                     -0.999233     -0.621238       -0.051483   \n",
       "2                      1.000767      1.609690       -0.051483   \n",
       "3                      1.000767      1.609690       -0.051483   \n",
       "4                      1.000767      1.609690       -0.051483   \n",
       "\n",
       "   Upfront_charges  Neg_ammortization_neg_amm  construction_type_mh  \\\n",
       "0        -0.810002                   2.969554               -0.0149   \n",
       "1        -0.810002                  -0.336751               -0.0149   \n",
       "2        -0.993270                  -0.336751               -0.0149   \n",
       "3        -0.879305                  -0.336751               -0.0149   \n",
       "4         0.583759                  -0.336751               -0.0149   \n",
       "\n",
       "   Secured_by_land  Security_Type_Indriect  occupancy_type_sr  Region_North  \\\n",
       "0          -0.0149                 -0.0149          -0.146627     -1.005220   \n",
       "1          -0.0149                 -0.0149          -0.146627      0.994807   \n",
       "2          -0.0149                 -0.0149          -0.146627      0.994807   \n",
       "3          -0.0149                 -0.0149          -0.146627      0.994807   \n",
       "4          -0.0149                 -0.0149          -0.146627      0.994807   \n",
       "\n",
       "   ...   age_<25  approv_in_adv_nopre  age_35-44  lump_sum_payment_lpsm  \\\n",
       "0  ... -0.095298            -2.320734   1.877235              -0.152595   \n",
       "1  ... -0.095298             0.430898  -0.532698              -0.152595   \n",
       "2  ... -0.095298            -2.320734  -0.532698              -0.152595   \n",
       "3  ... -0.095298            -2.320734   1.877235              -0.152595   \n",
       "4  ... -0.095298            -2.320734  -0.532698              -0.152595   \n",
       "\n",
       "   credit_type_CIB    income  loan_limit_ncf  loan_purpose_p1       LTV  \\\n",
       "0        -0.692133  0.391336        -0.27121         1.817171  0.190766   \n",
       "1        -0.692133  0.763653        -0.27121        -0.550306 -0.086685   \n",
       "2        -0.692133  0.540263        -0.27121         1.817171  0.500127   \n",
       "3        -0.692133  0.484415        -0.27121         1.817171 -0.068113   \n",
       "4        -0.692133 -0.297449        -0.27121        -0.550306  0.167040   \n",
       "\n",
       "   Status  \n",
       "0       0  \n",
       "1       0  \n",
       "2       0  \n",
       "3       0  \n",
       "4       0  \n",
       "\n",
       "[5 rows x 31 columns]"
      ]
     },
     "execution_count": 4,
     "metadata": {},
     "output_type": "execute_result"
    }
   ],
   "source": [
    "data = pd.read_csv(\"ld_clean.csv\")\n",
    "status = data['Status']\n",
    "data = data[feat_cols + ['Status']]\n",
    "data = data.infer_objects()\n",
    "data.fillna(data.mean(), inplace=True)\n",
    "data[feat_cols] = scaler.fit_transform(data[feat_cols])\n",
    "data.head()"
   ]
  },
  {
   "cell_type": "markdown",
   "id": "07160764-4b8c-4db5-8513-236ec6118589",
   "metadata": {},
   "source": [
    "### Split the data\n",
    "We now split the data using a 70/30 train/test split."
   ]
  },
  {
   "cell_type": "code",
   "execution_count": 5,
   "id": "bfc06003-0eea-474e-b182-28f78fb8fb6c",
   "metadata": {
    "tags": []
   },
   "outputs": [],
   "source": [
    "train_df = data.sample(frac=0.7,random_state=5822)\n",
    "val_df = data.drop(train_df.index)"
   ]
  },
  {
   "cell_type": "code",
   "execution_count": 6,
   "id": "db1dcbe3-e83d-4cf0-b085-331b680ab3cc",
   "metadata": {
    "tags": []
   },
   "outputs": [
    {
     "data": {
      "text/html": [
       "<div>\n",
       "<style scoped>\n",
       "    .dataframe tbody tr th:only-of-type {\n",
       "        vertical-align: middle;\n",
       "    }\n",
       "\n",
       "    .dataframe tbody tr th {\n",
       "        vertical-align: top;\n",
       "    }\n",
       "\n",
       "    .dataframe thead th {\n",
       "        text-align: right;\n",
       "    }\n",
       "</style>\n",
       "<table border=\"1\" class=\"dataframe\">\n",
       "  <thead>\n",
       "    <tr style=\"text-align: right;\">\n",
       "      <th></th>\n",
       "      <th>co-applicant_credit_type_EXP</th>\n",
       "      <th>Gender_Joint</th>\n",
       "      <th>total_units_3U</th>\n",
       "      <th>Upfront_charges</th>\n",
       "      <th>Neg_ammortization_neg_amm</th>\n",
       "      <th>construction_type_mh</th>\n",
       "      <th>Secured_by_land</th>\n",
       "      <th>Security_Type_Indriect</th>\n",
       "      <th>occupancy_type_sr</th>\n",
       "      <th>Region_North</th>\n",
       "      <th>...</th>\n",
       "      <th>age_&lt;25</th>\n",
       "      <th>approv_in_adv_nopre</th>\n",
       "      <th>age_35-44</th>\n",
       "      <th>lump_sum_payment_lpsm</th>\n",
       "      <th>credit_type_CIB</th>\n",
       "      <th>income</th>\n",
       "      <th>loan_limit_ncf</th>\n",
       "      <th>loan_purpose_p1</th>\n",
       "      <th>LTV</th>\n",
       "      <th>Status</th>\n",
       "    </tr>\n",
       "  </thead>\n",
       "  <tbody>\n",
       "    <tr>\n",
       "      <th>78554</th>\n",
       "      <td>1.000767</td>\n",
       "      <td>1.609690</td>\n",
       "      <td>-0.051483</td>\n",
       "      <td>-0.993270</td>\n",
       "      <td>2.969554</td>\n",
       "      <td>-0.0149</td>\n",
       "      <td>-0.0149</td>\n",
       "      <td>-0.0149</td>\n",
       "      <td>6.820040</td>\n",
       "      <td>-1.005220</td>\n",
       "      <td>...</td>\n",
       "      <td>-0.095298</td>\n",
       "      <td>0.430898</td>\n",
       "      <td>-0.532698</td>\n",
       "      <td>-0.152595</td>\n",
       "      <td>-0.692133</td>\n",
       "      <td>-0.185754</td>\n",
       "      <td>-0.27121</td>\n",
       "      <td>-0.550306</td>\n",
       "      <td>-0.555939</td>\n",
       "      <td>1</td>\n",
       "    </tr>\n",
       "    <tr>\n",
       "      <th>49350</th>\n",
       "      <td>1.000767</td>\n",
       "      <td>1.609690</td>\n",
       "      <td>-0.051483</td>\n",
       "      <td>-0.261738</td>\n",
       "      <td>2.969554</td>\n",
       "      <td>-0.0149</td>\n",
       "      <td>-0.0149</td>\n",
       "      <td>-0.0149</td>\n",
       "      <td>-0.146627</td>\n",
       "      <td>-1.005220</td>\n",
       "      <td>...</td>\n",
       "      <td>-0.095298</td>\n",
       "      <td>0.430898</td>\n",
       "      <td>1.877235</td>\n",
       "      <td>-0.152595</td>\n",
       "      <td>1.444809</td>\n",
       "      <td>-0.353297</td>\n",
       "      <td>-0.27121</td>\n",
       "      <td>-0.550306</td>\n",
       "      <td>0.416250</td>\n",
       "      <td>0</td>\n",
       "    </tr>\n",
       "    <tr>\n",
       "      <th>48569</th>\n",
       "      <td>1.000767</td>\n",
       "      <td>-0.621238</td>\n",
       "      <td>-0.051483</td>\n",
       "      <td>-0.993270</td>\n",
       "      <td>-0.336751</td>\n",
       "      <td>-0.0149</td>\n",
       "      <td>-0.0149</td>\n",
       "      <td>-0.0149</td>\n",
       "      <td>-0.146627</td>\n",
       "      <td>0.994807</td>\n",
       "      <td>...</td>\n",
       "      <td>-0.095298</td>\n",
       "      <td>0.430898</td>\n",
       "      <td>-0.532698</td>\n",
       "      <td>-0.152595</td>\n",
       "      <td>-0.692133</td>\n",
       "      <td>-0.260218</td>\n",
       "      <td>-0.27121</td>\n",
       "      <td>1.817171</td>\n",
       "      <td>0.650206</td>\n",
       "      <td>1</td>\n",
       "    </tr>\n",
       "    <tr>\n",
       "      <th>29625</th>\n",
       "      <td>1.000767</td>\n",
       "      <td>1.609690</td>\n",
       "      <td>-0.051483</td>\n",
       "      <td>-0.993270</td>\n",
       "      <td>-0.336751</td>\n",
       "      <td>-0.0149</td>\n",
       "      <td>-0.0149</td>\n",
       "      <td>-0.0149</td>\n",
       "      <td>-0.146627</td>\n",
       "      <td>0.994807</td>\n",
       "      <td>...</td>\n",
       "      <td>-0.095298</td>\n",
       "      <td>0.430898</td>\n",
       "      <td>1.877235</td>\n",
       "      <td>-0.152595</td>\n",
       "      <td>-0.692133</td>\n",
       "      <td>-0.176446</td>\n",
       "      <td>-0.27121</td>\n",
       "      <td>-0.550306</td>\n",
       "      <td>0.655915</td>\n",
       "      <td>0</td>\n",
       "    </tr>\n",
       "    <tr>\n",
       "      <th>23503</th>\n",
       "      <td>1.000767</td>\n",
       "      <td>1.609690</td>\n",
       "      <td>-0.051483</td>\n",
       "      <td>0.000166</td>\n",
       "      <td>-0.336751</td>\n",
       "      <td>-0.0149</td>\n",
       "      <td>-0.0149</td>\n",
       "      <td>-0.0149</td>\n",
       "      <td>-0.146627</td>\n",
       "      <td>0.994807</td>\n",
       "      <td>...</td>\n",
       "      <td>-0.095298</td>\n",
       "      <td>0.430898</td>\n",
       "      <td>-0.532698</td>\n",
       "      <td>-0.152595</td>\n",
       "      <td>-0.692133</td>\n",
       "      <td>-0.353297</td>\n",
       "      <td>-0.27121</td>\n",
       "      <td>-0.550306</td>\n",
       "      <td>-0.953902</td>\n",
       "      <td>0</td>\n",
       "    </tr>\n",
       "  </tbody>\n",
       "</table>\n",
       "<p>5 rows × 31 columns</p>\n",
       "</div>"
      ],
      "text/plain": [
       "       co-applicant_credit_type_EXP  Gender_Joint  total_units_3U  \\\n",
       "78554                      1.000767      1.609690       -0.051483   \n",
       "49350                      1.000767      1.609690       -0.051483   \n",
       "48569                      1.000767     -0.621238       -0.051483   \n",
       "29625                      1.000767      1.609690       -0.051483   \n",
       "23503                      1.000767      1.609690       -0.051483   \n",
       "\n",
       "       Upfront_charges  Neg_ammortization_neg_amm  construction_type_mh  \\\n",
       "78554        -0.993270                   2.969554               -0.0149   \n",
       "49350        -0.261738                   2.969554               -0.0149   \n",
       "48569        -0.993270                  -0.336751               -0.0149   \n",
       "29625        -0.993270                  -0.336751               -0.0149   \n",
       "23503         0.000166                  -0.336751               -0.0149   \n",
       "\n",
       "       Secured_by_land  Security_Type_Indriect  occupancy_type_sr  \\\n",
       "78554          -0.0149                 -0.0149           6.820040   \n",
       "49350          -0.0149                 -0.0149          -0.146627   \n",
       "48569          -0.0149                 -0.0149          -0.146627   \n",
       "29625          -0.0149                 -0.0149          -0.146627   \n",
       "23503          -0.0149                 -0.0149          -0.146627   \n",
       "\n",
       "       Region_North  ...   age_<25  approv_in_adv_nopre  age_35-44  \\\n",
       "78554     -1.005220  ... -0.095298             0.430898  -0.532698   \n",
       "49350     -1.005220  ... -0.095298             0.430898   1.877235   \n",
       "48569      0.994807  ... -0.095298             0.430898  -0.532698   \n",
       "29625      0.994807  ... -0.095298             0.430898   1.877235   \n",
       "23503      0.994807  ... -0.095298             0.430898  -0.532698   \n",
       "\n",
       "       lump_sum_payment_lpsm  credit_type_CIB    income  loan_limit_ncf  \\\n",
       "78554              -0.152595        -0.692133 -0.185754        -0.27121   \n",
       "49350              -0.152595         1.444809 -0.353297        -0.27121   \n",
       "48569              -0.152595        -0.692133 -0.260218        -0.27121   \n",
       "29625              -0.152595        -0.692133 -0.176446        -0.27121   \n",
       "23503              -0.152595        -0.692133 -0.353297        -0.27121   \n",
       "\n",
       "       loan_purpose_p1       LTV  Status  \n",
       "78554        -0.550306 -0.555939       1  \n",
       "49350        -0.550306  0.416250       0  \n",
       "48569         1.817171  0.650206       1  \n",
       "29625        -0.550306  0.655915       0  \n",
       "23503        -0.550306 -0.953902       0  \n",
       "\n",
       "[5 rows x 31 columns]"
      ]
     },
     "execution_count": 6,
     "metadata": {},
     "output_type": "execute_result"
    }
   ],
   "source": [
    "train_df.head()"
   ]
  },
  {
   "cell_type": "markdown",
   "id": "08d3c498-22ea-429e-b55f-53c2d929ed98",
   "metadata": {
    "tags": []
   },
   "source": [
    "# Defining our model\n",
    "We now define the model for our Bayesian logistic regression as $p(y_i=1|\\theta) = \\sigma(\\beta_0 + \\sum\\limits_{i=1}^{30} \\beta_ix_i)$, where $\\theta=\\{\\beta_i\\}_{i=0}^{30}$ and $\\sigma$ is the logstic sigmoid. To start, we assume all of our parameters follow a normal distribution $\\mathcal{N}(0,1)$. We run our model for 10,000 steps on 4 chains with a burn-in period of 500 steps."
   ]
  },
  {
   "cell_type": "code",
   "execution_count": 7,
   "id": "a80b4f3e-27f9-403d-bdc1-ff38915f1fe5",
   "metadata": {
    "tags": []
   },
   "outputs": [
    {
     "ename": "AttributeError",
     "evalue": "module 'pymc3' has no attribute 'Model'",
     "output_type": "error",
     "traceback": [
      "\u001b[0;31m---------------------------------------------------------------------------\u001b[0m",
      "\u001b[0;31mAttributeError\u001b[0m                            Traceback (most recent call last)",
      "\u001b[0;32m/var/folders/8z/hxl_wmpn61z3r1p_tlc3prnc0000gn/T/ipykernel_11607/1559178409.py\u001b[0m in \u001b[0;36m<module>\u001b[0;34m\u001b[0m\n\u001b[0;32m----> 1\u001b[0;31m \u001b[0;32mwith\u001b[0m \u001b[0mpm\u001b[0m\u001b[0;34m.\u001b[0m\u001b[0mModel\u001b[0m\u001b[0;34m(\u001b[0m\u001b[0;34m)\u001b[0m \u001b[0;32mas\u001b[0m \u001b[0mblr\u001b[0m\u001b[0;34m:\u001b[0m\u001b[0;34m\u001b[0m\u001b[0;34m\u001b[0m\u001b[0m\n\u001b[0m\u001b[1;32m      2\u001b[0m     \u001b[0;32mif\u001b[0m \u001b[0mos\u001b[0m\u001b[0;34m.\u001b[0m\u001b[0mpath\u001b[0m\u001b[0;34m.\u001b[0m\u001b[0misfile\u001b[0m\u001b[0;34m(\u001b[0m\u001b[0;34m'trace.pkl'\u001b[0m\u001b[0;34m)\u001b[0m\u001b[0;34m:\u001b[0m\u001b[0;34m\u001b[0m\u001b[0;34m\u001b[0m\u001b[0m\n\u001b[1;32m      3\u001b[0m         \u001b[0;32mwith\u001b[0m \u001b[0mopen\u001b[0m\u001b[0;34m(\u001b[0m\u001b[0;34m'trace.pkl'\u001b[0m\u001b[0;34m,\u001b[0m \u001b[0;34m'rb'\u001b[0m\u001b[0;34m)\u001b[0m \u001b[0;32mas\u001b[0m \u001b[0mf\u001b[0m\u001b[0;34m:\u001b[0m\u001b[0;34m\u001b[0m\u001b[0;34m\u001b[0m\u001b[0m\n\u001b[1;32m      4\u001b[0m             \u001b[0mtrace\u001b[0m \u001b[0;34m=\u001b[0m \u001b[0mpickle\u001b[0m\u001b[0;34m.\u001b[0m\u001b[0mload\u001b[0m\u001b[0;34m(\u001b[0m\u001b[0mf\u001b[0m\u001b[0;34m)\u001b[0m\u001b[0;34m\u001b[0m\u001b[0;34m\u001b[0m\u001b[0m\n\u001b[1;32m      5\u001b[0m     \u001b[0;32melse\u001b[0m\u001b[0;34m:\u001b[0m\u001b[0;34m\u001b[0m\u001b[0;34m\u001b[0m\u001b[0m\n",
      "\u001b[0;31mAttributeError\u001b[0m: module 'pymc3' has no attribute 'Model'"
     ]
    }
   ],
   "source": [
    "with pm.Model() as blr:\n",
    "    if os.path.isfile('trace.pkl'):\n",
    "        with open('trace.pkl', 'rb') as f:\n",
    "            trace = pickle.load(f)\n",
    "    else:\n",
    "        assert 1 == 0\n",
    "        betas = []\n",
    "        for i in range(31):\n",
    "            betas.append(pm.Normal(f'b{i}', 0,1))\n",
    "        logit = betas[0]\n",
    "        for beta, feat in zip(betas[1:], feat_cols):\n",
    "            logit += beta * train_df[feat]\n",
    "        likelihood = pm.invlogit(logit)\n",
    "        pm.Bernoulli(name='pred', p=likelihood, observed=train_df['Status'])\n",
    "        step = pm.Metropolis()\n",
    "        trace = pm.sample(10_000,tune=500, step=step, chains=4)"
   ]
  },
  {
   "cell_type": "code",
   "execution_count": null,
   "id": "e92f6a59-92e1-4d26-b48d-befa748e4bc9",
   "metadata": {
    "tags": []
   },
   "outputs": [],
   "source": [
    "with blr:\n",
    "    pm.traceplot(trace)"
   ]
  },
  {
   "cell_type": "code",
   "execution_count": null,
   "id": "90309ef4-5679-47f6-a0a5-3eafed7b1d2e",
   "metadata": {
    "tags": []
   },
   "outputs": [],
   "source": [
    "with blr:\n",
    "    pm.plot_posterior(trace)"
   ]
  },
  {
   "cell_type": "code",
   "execution_count": null,
   "id": "4b1801fb-618f-4a6b-92bb-e6c8d9a56fb2",
   "metadata": {
    "tags": []
   },
   "outputs": [],
   "source": [
    "logistic = lambda x: 1/(1+np.exp(-x))"
   ]
  },
  {
   "cell_type": "code",
   "execution_count": null,
   "id": "cc4d387a-eb90-4455-8b0b-95ec5b55c74e",
   "metadata": {
    "tags": []
   },
   "outputs": [],
   "source": [
    "logit = trace.get_values('b0').mean()\n",
    "for i, feat in zip(range(1,31), feat_cols):\n",
    "    logit += trace.get_values(f'b{i}').mean() * np.array(val_df[feat].to_list())"
   ]
  },
  {
   "cell_type": "code",
   "execution_count": null,
   "id": "e7be2147-c2fa-4443-8bcb-e4d82f9173ec",
   "metadata": {
    "tags": []
   },
   "outputs": [],
   "source": [
    "from sklearn.metrics import f1_score, accuracy_score, auc, classification_report"
   ]
  },
  {
   "cell_type": "code",
   "execution_count": null,
   "id": "ef64a8ca-f681-4ea8-b9f6-4cddb9949527",
   "metadata": {
    "tags": []
   },
   "outputs": [],
   "source": [
    "print(classification_report(val_df['Status'].to_list(), np.uint8(logistic(logit) > 0.5)))"
   ]
  },
  {
   "cell_type": "code",
   "execution_count": null,
   "id": "da665b2f-49ef-4508-a982-843003836beb",
   "metadata": {
    "tags": []
   },
   "outputs": [],
   "source": [
    "from sklearn.linear_model import LogisticRegression\n",
    "clf = LogisticRegression(random_state=0).fit(train_df[feat_cols], train_df['Status'])"
   ]
  },
  {
   "cell_type": "code",
   "execution_count": null,
   "id": "dfc50868-3875-4951-a69a-23883dd24e5e",
   "metadata": {
    "tags": []
   },
   "outputs": [],
   "source": [
    "print(classification_report(val_df['Status'], clf.predict(val_df[feat_cols])))"
   ]
  }
 ],
 "metadata": {
  "kernelspec": {
   "display_name": "Python 3 (ipykernel)",
   "language": "python",
   "name": "python3"
  },
  "language_info": {
   "codemirror_mode": {
    "name": "ipython",
    "version": 3
   },
   "file_extension": ".py",
   "mimetype": "text/x-python",
   "name": "python",
   "nbconvert_exporter": "python",
   "pygments_lexer": "ipython3",
   "version": "3.8.10"
  },
  "widgets": {
   "application/vnd.jupyter.widget-state+json": {
    "state": {},
    "version_major": 2,
    "version_minor": 0
   }
  }
 },
 "nbformat": 4,
 "nbformat_minor": 5
}
