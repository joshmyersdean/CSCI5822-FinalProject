{
 "cells": [
  {
   "cell_type": "code",
   "execution_count": 14,
   "id": "64250ff8",
   "metadata": {},
   "outputs": [
    {
     "name": "stdout",
     "output_type": "stream",
     "text": [
      "6\n",
      "           year   loan_amount  rate_of_interest  Interest_rate_spread  \\\n",
      "count  148668.0  1.486680e+05     148668.000000         148668.000000   \n",
      "mean     2019.0  3.311200e+05          4.044898              0.441676   \n",
      "std         0.0  1.839094e+05          0.561044              0.513070   \n",
      "min      2019.0  1.650000e+04          0.000000             -3.638000   \n",
      "25%      2019.0  1.965000e+05          3.625000              0.076000   \n",
      "50%      2019.0  2.965000e+05          3.990000              0.389950   \n",
      "75%      2019.0  4.365000e+05          4.375000              0.775100   \n",
      "max      2019.0  3.576500e+06          8.000000              3.357000   \n",
      "\n",
      "       Upfront_charges           term  property_value         income  \\\n",
      "count    148668.000000  148668.000000    1.486680e+05  148668.000000   \n",
      "mean       3224.762431     335.138261    4.981473e+05    6957.396077   \n",
      "std        3246.623119      58.408211    3.597563e+05    6446.149569   \n",
      "min           0.000000      96.000000    8.000000e+03       0.000000   \n",
      "25%         583.000000     360.000000    2.680000e+05    3720.000000   \n",
      "50%        2599.420000     360.000000    4.180000e+05    5760.000000   \n",
      "75%        4819.455000     360.000000    6.280000e+05    8520.000000   \n",
      "max       60000.000000     360.000000    1.650800e+07  578580.000000   \n",
      "\n",
      "        Credit_Score            LTV  ...       age_<25        age_>74  \\\n",
      "count  148668.000000  148668.000000  ...  148668.00000  148668.000000   \n",
      "mean      699.789706      72.702051  ...       0.00900       0.048343   \n",
      "std       115.875904      38.359347  ...       0.09444       0.214490   \n",
      "min       500.000000       0.967478  ...       0.00000       0.000000   \n",
      "25%       599.000000      60.416667  ...       0.00000       0.000000   \n",
      "50%       699.000000      75.122549  ...       0.00000       0.000000   \n",
      "75%       800.000000      86.184211  ...       0.00000       0.000000   \n",
      "max       900.000000    7831.250000  ...       1.00000       1.000000   \n",
      "\n",
      "       submission_of_application_not_inst  submission_of_application_to_inst  \\\n",
      "count                       148668.000000                      148668.000000   \n",
      "mean                             0.354636                           0.645364   \n",
      "std                              0.478404                           0.478404   \n",
      "min                              0.000000                           0.000000   \n",
      "25%                              0.000000                           0.000000   \n",
      "50%                              0.000000                           1.000000   \n",
      "75%                              1.000000                           1.000000   \n",
      "max                              1.000000                           1.000000   \n",
      "\n",
      "        Region_North  Region_North-East  Region_central   Region_south  \\\n",
      "count  148668.000000      148668.000000   148668.000000  148668.000000   \n",
      "mean        0.502603           0.008307        0.058499       0.430590   \n",
      "std         0.499995           0.090764        0.234686       0.495161   \n",
      "min         0.000000           0.000000        0.000000       0.000000   \n",
      "25%         0.000000           0.000000        0.000000       0.000000   \n",
      "50%         1.000000           0.000000        0.000000       0.000000   \n",
      "75%         1.000000           0.000000        0.000000       1.000000   \n",
      "max         1.000000           1.000000        1.000000       1.000000   \n",
      "\n",
      "       Security_Type_Indriect  Security_Type_direct  \n",
      "count           148668.000000         148668.000000  \n",
      "mean                 0.000222              0.999778  \n",
      "std                  0.014897              0.014897  \n",
      "min                  0.000000              0.000000  \n",
      "25%                  0.000000              1.000000  \n",
      "50%                  0.000000              1.000000  \n",
      "75%                  0.000000              1.000000  \n",
      "max                  1.000000              1.000000  \n",
      "\n",
      "[8 rows x 71 columns]\n"
     ]
    }
   ],
   "source": [
    "import numpy as np \n",
    "import pandas as pd \n",
    "import matplotlib.pyplot as plt \n",
    "import seaborn as sns\n",
    "from sklearn.decomposition import PCA\n",
    "\n",
    "Data = pd.read_csv(\"Loan_Default_Cleaned.csv\")\n",
    "print(Data.isna().sum().sum())\n",
    "CData = Data.dropna()\n",
    "CData.shape\n",
    "CData = CData.drop([\"Unnamed: 0\"], axis = 1)\n",
    "print(CData.describe())"
   ]
  },
  {
   "cell_type": "code",
   "execution_count": 18,
   "id": "df2fd429",
   "metadata": {},
   "outputs": [
    {
     "name": "stdout",
     "output_type": "stream",
     "text": [
      "[1, array([0.89393194])]\n",
      "[2, array([0.89393194, 0.9997315 ])]\n",
      "[3, array([0.89393194, 0.9997315 , 0.99993553])]\n",
      "[4, array([0.89393194, 0.9997315 , 0.99993553, 0.99999989])]\n",
      "[5, array([0.89393194, 0.9997315 , 0.99993553, 0.99999989, 0.99999997])]\n",
      "[6, array([0.89393194, 0.9997315 , 0.99993553, 0.99999989, 0.99999997,\n",
      "       0.99999999])]\n",
      "[7, array([0.89393194, 0.9997315 , 0.99993553, 0.99999989, 0.99999997,\n",
      "       0.99999999, 1.        ])]\n",
      "[8, array([0.89393194, 0.9997315 , 0.99993553, 0.99999989, 0.99999997,\n",
      "       0.99999999, 1.        , 1.        ])]\n",
      "[9, array([0.89393194, 0.9997315 , 0.99993553, 0.99999989, 0.99999997,\n",
      "       0.99999999, 1.        , 1.        , 1.        ])]\n"
     ]
    }
   ],
   "source": [
    "for d in range(1,10):\n",
    "    pca = PCA(n_components = d)\n",
    "    pca.fit_transform(CData)\n",
    "    print([d , pca.explained_variance_ratio_.cumsum()])"
   ]
  },
  {
   "cell_type": "code",
   "execution_count": null,
   "id": "e09ef01a",
   "metadata": {},
   "outputs": [],
   "source": []
  }
 ],
 "metadata": {
  "kernelspec": {
   "display_name": "Python 3",
   "language": "python",
   "name": "python3"
  },
  "language_info": {
   "codemirror_mode": {
    "name": "ipython",
    "version": 3
   },
   "file_extension": ".py",
   "mimetype": "text/x-python",
   "name": "python",
   "nbconvert_exporter": "python",
   "pygments_lexer": "ipython3",
   "version": "3.9.12"
  }
 },
 "nbformat": 4,
 "nbformat_minor": 5
}
